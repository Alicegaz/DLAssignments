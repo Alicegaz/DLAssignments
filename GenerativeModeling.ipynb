{
  "nbformat": 4,
  "nbformat_minor": 0,
  "metadata": {
    "colab": {
      "name": "Untitled9.ipynb",
      "provenance": [],
      "authorship_tag": "ABX9TyNmcTcBQtTCfB+C4vX/ZKfr",
      "include_colab_link": true
    },
    "kernelspec": {
      "name": "python3",
      "display_name": "Python 3"
    }
  },
  "cells": [
    {
      "cell_type": "markdown",
      "metadata": {
        "id": "view-in-github",
        "colab_type": "text"
      },
      "source": [
        "<a href=\"https://colab.research.google.com/github/Alicegaz/DLAssignments/blob/master/GenerativeModeling.ipynb\" target=\"_parent\"><img src=\"https://colab.research.google.com/assets/colab-badge.svg\" alt=\"Open In Colab\"/></a>"
      ]
    },
    {
      "cell_type": "code",
      "metadata": {
        "id": "xvOZVpOl1uZ7",
        "colab_type": "code",
        "colab": {}
      },
      "source": [
        "import pandas as pd\n",
        "import numpy as np\n",
        "import scipy\n",
        "import scipy.stats as stats\n",
        "import matplotlib.pyplot as plt\n",
        "from scipy.stats import beta, norm, weibull_max, lognorm, gamma, pearson3"
      ],
      "execution_count": 89,
      "outputs": []
    },
    {
      "cell_type": "code",
      "metadata": {
        "id": "-KL9ZlBM1yZB",
        "colab_type": "code",
        "colab": {}
      },
      "source": [
        "df = pd.read_csv(\"./sensors_missed_107.csv\")"
      ],
      "execution_count": 37,
      "outputs": []
    },
    {
      "cell_type": "code",
      "metadata": {
        "id": "gVttAM3zKtC1",
        "colab_type": "code",
        "colab": {
          "base_uri": "https://localhost:8080/",
          "height": 34
        },
        "outputId": "07d10dc3-e8ad-466b-da7d-5253f28f44fd"
      },
      "source": [
        "df.shape"
      ],
      "execution_count": 21,
      "outputs": [
        {
          "output_type": "execute_result",
          "data": {
            "text/plain": [
              "(17362, 2)"
            ]
          },
          "metadata": {
            "tags": []
          },
          "execution_count": 21
        }
      ]
    },
    {
      "cell_type": "code",
      "metadata": {
        "id": "0XhQXtG5QMvs",
        "colab_type": "code",
        "colab": {
          "base_uri": "https://localhost:8080/",
          "height": 282
        },
        "outputId": "0f2b251f-010f-4f14-87c8-bbbeecb7605e"
      },
      "source": [
        "df.loc[12060:12180, 'T'].hist()"
      ],
      "execution_count": 41,
      "outputs": [
        {
          "output_type": "execute_result",
          "data": {
            "text/plain": [
              "<matplotlib.axes._subplots.AxesSubplot at 0x7f4d0d528c18>"
            ]
          },
          "metadata": {
            "tags": []
          },
          "execution_count": 41
        },
        {
          "output_type": "display_data",
          "data": {
            "image/png": "[encoded data removed]",
            "text/plain": [
              "<Figure size 432x288 with 1 Axes>"
            ]
          },
          "metadata": {
            "tags": [],
            "needs_background": "light"
          }
        }
      ]
    },
    {
      "cell_type": "code",
      "metadata": {
        "id": "mNOZOYB4SHq0",
        "colab_type": "code",
        "colab": {}
      },
      "source": [
        "X = df.loc[12060:12180, 'T']"
      ],
      "execution_count": 42,
      "outputs": []
    },
    {
      "cell_type": "code",
      "metadata": {
        "id": "_9jWrdr3SJqr",
        "colab_type": "code",
        "colab": {
          "base_uri": "https://localhost:8080/",
          "height": 34
        },
        "outputId": "c76bf36f-68d8-4112-bc86-d1e9b39c0c1c"
      },
      "source": [
        "X.shape"
      ],
      "execution_count": 43,
      "outputs": [
        {
          "output_type": "execute_result",
          "data": {
            "text/plain": [
              "(121,)"
            ]
          },
          "metadata": {
            "tags": []
          },
          "execution_count": 43
        }
      ]
    },
    {
      "cell_type": "code",
      "metadata": {
        "id": "qUtnt_MFRjbS",
        "colab_type": "code",
        "colab": {}
      },
      "source": [
        "chi_square_statistics = []\n",
        "# 11 equi-distant bins of observed Data \n",
        "percentile_bins = np.linspace(0,100,10)\n",
        "percentile_cutoffs = np.percentile(X, percentile_bins)\n",
        "observed_frequency, bins = (np.histogram(X, bins=percentile_cutoffs))\n",
        "cum_observed_frequency = np.cumsum(observed_frequency)"
      ],
      "execution_count": 48,
      "outputs": []
    },
    {
      "cell_type": "code",
      "metadata": {
        "id": "Od_JtLIaSteN",
        "colab_type": "code",
        "colab": {}
      },
      "source": [
        "dist_names = [\"weibull_min\",\"norm\",\"weibull_max\",\"beta\", \"invgauss\",\"uniform\",\"gamma\",\"expon\", \"lognorm\",\"pearson3\",\"triang\"]"
      ],
      "execution_count": 51,
      "outputs": []
    },
    {
      "cell_type": "code",
      "metadata": {
        "id": "w-qdQRcaUiBk",
        "colab_type": "code",
        "colab": {}
      },
      "source": [
        "size = X.shape[0]"
      ],
      "execution_count": 57,
      "outputs": []
    },
    {
      "cell_type": "code",
      "metadata": {
        "id": "23JV8iXpR3MA",
        "colab_type": "code",
        "colab": {
          "base_uri": "https://localhost:8080/",
          "height": 663
        },
        "outputId": "bd1dc2e0-1082-428d-8e03-378672ba7a02"
      },
      "source": [
        "# Loop through candidate distributions\n",
        "for distribution in dist_names:\n",
        "    # Set up distribution and get fitted distribution parameters\n",
        "    dist = getattr(stats, distribution)\n",
        "    param = dist.fit(X)\n",
        "    print(\"{}\\n{}\\n\".format(dist, param))\n",
        "\n",
        "\n",
        "    # Get expected counts in percentile bins\n",
        "    # cdf of fitted sistrinution across bins\n",
        "    cdf_fitted = dist.cdf(percentile_cutoffs, *param)\n",
        "    expected_frequency = []\n",
        "    for bin in range(len(percentile_bins)-1):\n",
        "        expected_cdf_area = cdf_fitted[bin+1] - cdf_fitted[bin]\n",
        "        expected_frequency.append(expected_cdf_area)\n",
        "\n",
        "    # Chi-square Statistics\n",
        "    expected_frequency = np.array(expected_frequency) * size\n",
        "    cum_expected_frequency = np.cumsum(expected_frequency)\n",
        "    ss = sum (((cum_expected_frequency - cum_observed_frequency) ** 2) / cum_observed_frequency)\n",
        "    chi_square_statistics.append(ss)"
      ],
      "execution_count": 58,
      "outputs": [
        {
          "output_type": "stream",
          "text": [
            "<scipy.stats._continuous_distns.weibull_min_gen object at 0x7f4d03bafb70>\n",
            "(0.6259182443337215, -3.943556080219698e-28, 3.163924356833893)\n",
            "\n",
            "<scipy.stats._continuous_distns.norm_gen object at 0x7f4d040cdda0>\n",
            "(9.285950413223139, 3.7899673080236798)\n",
            "\n",
            "<scipy.stats._continuous_distns.weibull_max_gen object at 0x7f4d03bafdd8>\n",
            "(3.0815300851747756, 20.10511097544419, 12.080348564159657)\n",
            "\n",
            "<scipy.stats._continuous_distns.beta_gen object at 0x7f4d040df860>\n",
            "(10647962.836366272, 45.65115207527079, -6040716.94790601, 6040752.130954104)\n",
            "\n",
            "<scipy.stats._continuous_distns.invgauss_gen object at 0x7f4d03b68198>\n",
            "(0.026341772362513692, -16.168196735889794, 961.3485788814505)\n",
            "\n",
            "<scipy.stats._continuous_distns.uniform_gen object at 0x7f4d03b3f7b8>\n",
            "(0.0, 17.8)\n",
            "\n"
          ],
          "name": "stdout"
        },
        {
          "output_type": "stream",
          "text": [
            "/usr/local/lib/python3.6/dist-packages/scipy/optimize/minpack.py:162: RuntimeWarning:\n",
            "\n",
            "The iteration is not making good progress, as measured by the \n",
            "  improvement from the last ten iterations.\n",
            "\n"
          ],
          "name": "stderr"
        },
        {
          "output_type": "stream",
          "text": [
            "<scipy.stats._continuous_distns.gamma_gen object at 0x7f4d03bd2080>\n",
            "(375.88597404659185, -65.0202386828312, 0.19770460737375622)\n",
            "\n",
            "<scipy.stats._continuous_distns.expon_gen object at 0x7f4d0734a048>\n",
            "(0.0, 9.285950413223139)\n",
            "\n",
            "<scipy.stats._continuous_distns.lognorm_gen object at 0x7f4d03b80438>\n",
            "(0.014523781226927768, -250.3776865314366, 259.6469671297991)\n",
            "\n",
            "<scipy.stats._continuous_distns.pearson3_gen object at 0x7f4d03b988d0>\n",
            "(-0.17043300075147333, 9.285927214258164, 3.7883617892513577)\n",
            "\n",
            "<scipy.stats._continuous_distns.triang_gen object at 0x7f4d03b33a20>\n",
            "(0.5956068667561367, -1.010193279726817, 19.493048052574444)\n",
            "\n"
          ],
          "name": "stdout"
        }
      ]
    },
    {
      "cell_type": "code",
      "metadata": {
        "id": "r4RwWq4eR5Ij",
        "colab_type": "code",
        "colab": {}
      },
      "source": [
        "#Sort by minimum ch-square statistics\n",
        "results = pd.DataFrame()\n",
        "results['Distribution'] = dist_names\n",
        "results['chi_square'] = chi_square_statistics\n",
        "results.sort_values(['chi_square'], inplace=True)"
      ],
      "execution_count": 59,
      "outputs": []
    },
    {
      "cell_type": "code",
      "metadata": {
        "id": "1fkd-N25R6nk",
        "colab_type": "code",
        "colab": {
          "base_uri": "https://localhost:8080/",
          "height": 272
        },
        "outputId": "e57c3d36-f5a6-4a0b-df90-8fea99e44392"
      },
      "source": [
        "print ('\\nDistributions listed by Betterment of fit:')\n",
        "print ('............................................')\n",
        "print (results)"
      ],
      "execution_count": 60,
      "outputs": [
        {
          "output_type": "stream",
          "text": [
            "\n",
            "Distributions listed by Betterment of fit:\n",
            "............................................\n",
            "   Distribution   chi_square\n",
            "3          beta     3.836701\n",
            "1          norm     6.614058\n",
            "2   weibull_max     6.665107\n",
            "8       lognorm     6.856604\n",
            "6         gamma     8.112067\n",
            "10       triang     9.345463\n",
            "4      invgauss    21.834291\n",
            "5       uniform    71.432429\n",
            "7         expon   221.053891\n",
            "0   weibull_min   858.449812\n",
            "9      pearson3  2415.263495\n"
          ],
          "name": "stdout"
        }
      ]
    },
    {
      "cell_type": "code",
      "metadata": {
        "id": "t_xly-kJW6iz",
        "colab_type": "code",
        "colab": {}
      },
      "source": [
        "x = np.linspace(X.min(), X.max(), X.shape[0])"
      ],
      "execution_count": 73,
      "outputs": []
    },
    {
      "cell_type": "code",
      "metadata": {
        "id": "MmITOvwzUutG",
        "colab_type": "code",
        "colab": {
          "base_uri": "https://localhost:8080/",
          "height": 585
        },
        "outputId": "b710ef1b-aa3a-433c-cedb-6f8b810c0afc"
      },
      "source": [
        "fig, axes = plt.subplots(nrows=2, ncols=3, figsize=(9, 8))\n",
        "# Histogram Plot of Observed Data\n",
        "axes[0][0].hist(X)\n",
        "axes[0][0].set_xlabel('temperature', fontsize=10)\n",
        "axes[0][0].set_ylabel('counts', fontsize='medium') \n",
        "axes[0][0].set_title('Original data', fontsize=12) \n",
        "#Beta Distribution Fitting\n",
        "axes[0][1].plot(x,beta.pdf(x,10647962.836366272, 45.65115207527079, -6040716.94790601, 6040752.130954104))\n",
        "axes[0][1].set_xlabel('temperature', fontsize=10)\n",
        "axes[0][1].set_ylabel('counts', fontsize='medium') \n",
        "axes[0][1].set_title('Beta', fontsize=12) \n",
        "#Normal Distribution Fitting\n",
        "axes[0][2].plot(x,norm.pdf(x,9.285950413223139, 3.7899673080236798))\n",
        "axes[0][2].set_xlabel('temperature', fontsize=10)\n",
        "axes[0][2].set_ylabel('counts', fontsize='medium') \n",
        "axes[0][2].set_title('Norm', fontsize=12) \n",
        "axes[1][0].plot(x,weibull_max.pdf(x,3.0815300851747756, 20.10511097544419, 12.080348564159657))\n",
        "axes[1][0].set_xlabel('temperature', fontsize=10)\n",
        "axes[1][0].set_ylabel('counts', fontsize='medium') \n",
        "axes[1][0].set_title('Weibull', fontsize=12) \n",
        "axes[1][1].plot(x,lognorm.pdf(x,0.014523781226927768, -250.3776865314366, 259.6469671297995))\n",
        "axes[1][1].set_xlabel('temperature', fontsize=10)\n",
        "axes[1][1].set_ylabel('counts', fontsize='medium') \n",
        "axes[1][1].set_title('Lognorm', fontsize=12)\n",
        "axes[1][2].plot(x,pearson3.pdf(x,-0.17043300075147333, 9.285927214258164, 3.7883617892513577))\n",
        "axes[1][2].set_xlabel('temperature', fontsize=10)\n",
        "axes[1][2].set_ylabel('counts', fontsize='medium') \n",
        "axes[1][2].set_title('Gamma', fontsize=12)\n",
        " \n",
        "375.88597404659185, -65.0202386828312, 0.19770460737375622\n",
        "fig.tight_layout()"
      ],
      "execution_count": 90,
      "outputs": [
        {
          "output_type": "display_data",
          "data": {
            "image/png": "[encoded data removed]",
            "text/plain": [
              "<Figure size 648x576 with 6 Axes>"
            ]
          },
          "metadata": {
            "tags": [],
            "needs_background": "light"
          }
        }
      ]
    },
    {
      "cell_type": "code",
      "metadata": {
        "id": "ofDLACCQfQ9k",
        "colab_type": "code",
        "colab": {}
      },
      "source": [
        "beta_ = beta.rvs(10647962.836366272, 45.65115207527079, -6040716.94790601, 6040752.130954104, size=X.shape[0])"
      ],
      "execution_count": 100,
      "outputs": []
    },
    {
      "cell_type": "code",
      "metadata": {
        "id": "sqGnGSWKdd3a",
        "colab_type": "code",
        "colab": {
          "base_uri": "https://localhost:8080/",
          "height": 282
        },
        "outputId": "6bf7b847-3a65-4764-b1a4-f1a30563d584"
      },
      "source": [
        "plt.scatter(np.sort(X), np.sort(beta_))"
      ],
      "execution_count": 102,
      "outputs": [
        {
          "output_type": "execute_result",
          "data": {
            "text/plain": [
              "<matplotlib.collections.PathCollection at 0x7f4cffbd58d0>"
            ]
          },
          "metadata": {
            "tags": []
          },
          "execution_count": 102
        },
        {
          "output_type": "display_data",
          "data": {
            "image/png": "[encoded data removed]",
            "text/plain": [
              "<Figure size 432x288 with 1 Axes>"
            ]
          },
          "metadata": {
            "tags": [],
            "needs_background": "light"
          }
        }
      ]
    },
    {
      "cell_type": "code",
      "metadata": {
        "id": "pVamH88oed74",
        "colab_type": "code",
        "colab": {}
      },
      "source": [
        ""
      ],
      "execution_count": null,
      "outputs": []
    }
  ]
}
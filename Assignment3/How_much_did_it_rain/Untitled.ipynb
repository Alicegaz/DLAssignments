{
 "cells": [
  {
   "cell_type": "code",
   "execution_count": 1,
   "metadata": {},
   "outputs": [],
   "source": [
    "import pandas as pd\n",
    "import numpy as np"
   ]
  },
  {
   "cell_type": "code",
   "execution_count": 2,
   "metadata": {},
   "outputs": [],
   "source": [
    "import zipfile\n",
    "import tensorflow as tf\n",
    "import sys"
   ]
  },
  {
   "cell_type": "code",
   "execution_count": 3,
   "metadata": {},
   "outputs": [],
   "source": [
    "import checkmate\n",
    "from checkmate import BestCheckpointSaver"
   ]
  },
  {
   "cell_type": "code",
   "execution_count": 4,
   "metadata": {},
   "outputs": [],
   "source": [
    "import matplotlib.pyplot as plt"
   ]
  },
  {
   "cell_type": "code",
   "execution_count": 5,
   "metadata": {},
   "outputs": [],
   "source": [
    "seq_len = None"
   ]
  },
  {
   "cell_type": "code",
   "execution_count": 6,
   "metadata": {},
   "outputs": [],
   "source": [
    "def remove_outliers(data, threshold=73):\n",
    "    titles = {i: i.lower() for i in data.columns}\n",
    "    return (data.rename(columns=titles).query('expected <= @threshold').copy())"
   ]
  },
  {
   "cell_type": "code",
   "execution_count": 7,
   "metadata": {},
   "outputs": [],
   "source": [
    "def seq_pad(data, size, steps):\n",
    "    arr = []\n",
    "    for i in data:\n",
    "        _ = i.copy()\n",
    "        _.resize(steps, size)\n",
    "        arr.append(_)\n",
    "    arr = np.array(arr)\n",
    "    return arr"
   ]
  },
  {
   "cell_type": "markdown",
   "metadata": {},
   "source": [
    "# Data Loading"
   ]
  },
  {
   "cell_type": "markdown",
   "metadata": {},
   "source": [
    "training - 20 days of each month\n",
    "test - remaining days\n",
    "Both sets are independent\n",
    "Calendar time and location information omitted:\n",
    "    impossible to construct a local validation holdout subset independent from the rest of the training set\n",
    "    no way to ensure that any two gauge readings are not correlated in time/space"
   ]
  },
  {
   "cell_type": "code",
   "execution_count": 8,
   "metadata": {},
   "outputs": [],
   "source": [
    "#zf1 = zipfile.ZipFile('../../train.zip')\n",
    "#zf2 = zipfile.ZipFile('../../test.zip')\n",
    "#train = pd.read_csv(zf1.open(zipfile.ZipFile.namelist(zf1)[0]))\n",
    "#test = pd.read_csv(zf2.open(zipfile.ZipFile.namelist(zf2)[0]))\n",
    "train = pd.read_csv('../../train.csv', nrows=60000).pipe(remove_outliers)\n",
    "test = pd.read_csv('../../test.csv', nrows=50000)"
   ]
  },
  {
   "cell_type": "code",
   "execution_count": 9,
   "metadata": {},
   "outputs": [
    {
     "data": {
      "text/html": [
       "<div>\n",
       "<style scoped>\n",
       "    .dataframe tbody tr th:only-of-type {\n",
       "        vertical-align: middle;\n",
       "    }\n",
       "\n",
       "    .dataframe tbody tr th {\n",
       "        vertical-align: top;\n",
       "    }\n",
       "\n",
       "    .dataframe thead th {\n",
       "        text-align: right;\n",
       "    }\n",
       "</style>\n",
       "<table border=\"1\" class=\"dataframe\">\n",
       "  <thead>\n",
       "    <tr style=\"text-align: right;\">\n",
       "      <th></th>\n",
       "      <th>id</th>\n",
       "      <th>minutes_past</th>\n",
       "      <th>radardist_km</th>\n",
       "      <th>ref</th>\n",
       "      <th>ref_5x5_10th</th>\n",
       "      <th>ref_5x5_50th</th>\n",
       "      <th>ref_5x5_90th</th>\n",
       "      <th>refcomposite</th>\n",
       "      <th>refcomposite_5x5_10th</th>\n",
       "      <th>refcomposite_5x5_50th</th>\n",
       "      <th>...</th>\n",
       "      <th>rhohv_5x5_90th</th>\n",
       "      <th>zdr</th>\n",
       "      <th>zdr_5x5_10th</th>\n",
       "      <th>zdr_5x5_50th</th>\n",
       "      <th>zdr_5x5_90th</th>\n",
       "      <th>kdp</th>\n",
       "      <th>kdp_5x5_10th</th>\n",
       "      <th>kdp_5x5_50th</th>\n",
       "      <th>kdp_5x5_90th</th>\n",
       "      <th>expected</th>\n",
       "    </tr>\n",
       "  </thead>\n",
       "  <tbody>\n",
       "    <tr>\n",
       "      <th>0</th>\n",
       "      <td>1</td>\n",
       "      <td>3</td>\n",
       "      <td>10.0</td>\n",
       "      <td>NaN</td>\n",
       "      <td>NaN</td>\n",
       "      <td>NaN</td>\n",
       "      <td>NaN</td>\n",
       "      <td>NaN</td>\n",
       "      <td>NaN</td>\n",
       "      <td>NaN</td>\n",
       "      <td>...</td>\n",
       "      <td>NaN</td>\n",
       "      <td>NaN</td>\n",
       "      <td>NaN</td>\n",
       "      <td>NaN</td>\n",
       "      <td>NaN</td>\n",
       "      <td>NaN</td>\n",
       "      <td>NaN</td>\n",
       "      <td>NaN</td>\n",
       "      <td>NaN</td>\n",
       "      <td>0.254</td>\n",
       "    </tr>\n",
       "    <tr>\n",
       "      <th>1</th>\n",
       "      <td>1</td>\n",
       "      <td>16</td>\n",
       "      <td>10.0</td>\n",
       "      <td>NaN</td>\n",
       "      <td>NaN</td>\n",
       "      <td>NaN</td>\n",
       "      <td>NaN</td>\n",
       "      <td>NaN</td>\n",
       "      <td>NaN</td>\n",
       "      <td>NaN</td>\n",
       "      <td>...</td>\n",
       "      <td>NaN</td>\n",
       "      <td>NaN</td>\n",
       "      <td>NaN</td>\n",
       "      <td>NaN</td>\n",
       "      <td>NaN</td>\n",
       "      <td>NaN</td>\n",
       "      <td>NaN</td>\n",
       "      <td>NaN</td>\n",
       "      <td>NaN</td>\n",
       "      <td>0.254</td>\n",
       "    </tr>\n",
       "    <tr>\n",
       "      <th>2</th>\n",
       "      <td>1</td>\n",
       "      <td>25</td>\n",
       "      <td>10.0</td>\n",
       "      <td>NaN</td>\n",
       "      <td>NaN</td>\n",
       "      <td>NaN</td>\n",
       "      <td>NaN</td>\n",
       "      <td>NaN</td>\n",
       "      <td>NaN</td>\n",
       "      <td>NaN</td>\n",
       "      <td>...</td>\n",
       "      <td>NaN</td>\n",
       "      <td>NaN</td>\n",
       "      <td>NaN</td>\n",
       "      <td>NaN</td>\n",
       "      <td>NaN</td>\n",
       "      <td>NaN</td>\n",
       "      <td>NaN</td>\n",
       "      <td>NaN</td>\n",
       "      <td>NaN</td>\n",
       "      <td>0.254</td>\n",
       "    </tr>\n",
       "    <tr>\n",
       "      <th>3</th>\n",
       "      <td>1</td>\n",
       "      <td>35</td>\n",
       "      <td>10.0</td>\n",
       "      <td>NaN</td>\n",
       "      <td>NaN</td>\n",
       "      <td>NaN</td>\n",
       "      <td>NaN</td>\n",
       "      <td>NaN</td>\n",
       "      <td>NaN</td>\n",
       "      <td>NaN</td>\n",
       "      <td>...</td>\n",
       "      <td>NaN</td>\n",
       "      <td>NaN</td>\n",
       "      <td>NaN</td>\n",
       "      <td>NaN</td>\n",
       "      <td>NaN</td>\n",
       "      <td>NaN</td>\n",
       "      <td>NaN</td>\n",
       "      <td>NaN</td>\n",
       "      <td>NaN</td>\n",
       "      <td>0.254</td>\n",
       "    </tr>\n",
       "    <tr>\n",
       "      <th>4</th>\n",
       "      <td>1</td>\n",
       "      <td>45</td>\n",
       "      <td>10.0</td>\n",
       "      <td>NaN</td>\n",
       "      <td>NaN</td>\n",
       "      <td>NaN</td>\n",
       "      <td>NaN</td>\n",
       "      <td>NaN</td>\n",
       "      <td>NaN</td>\n",
       "      <td>NaN</td>\n",
       "      <td>...</td>\n",
       "      <td>NaN</td>\n",
       "      <td>NaN</td>\n",
       "      <td>NaN</td>\n",
       "      <td>NaN</td>\n",
       "      <td>NaN</td>\n",
       "      <td>NaN</td>\n",
       "      <td>NaN</td>\n",
       "      <td>NaN</td>\n",
       "      <td>NaN</td>\n",
       "      <td>0.254</td>\n",
       "    </tr>\n",
       "  </tbody>\n",
       "</table>\n",
       "<p>5 rows × 24 columns</p>\n",
       "</div>"
      ],
      "text/plain": [
       "   id  minutes_past  radardist_km  ref  ref_5x5_10th  ref_5x5_50th  \\\n",
       "0   1             3          10.0  NaN           NaN           NaN   \n",
       "1   1            16          10.0  NaN           NaN           NaN   \n",
       "2   1            25          10.0  NaN           NaN           NaN   \n",
       "3   1            35          10.0  NaN           NaN           NaN   \n",
       "4   1            45          10.0  NaN           NaN           NaN   \n",
       "\n",
       "   ref_5x5_90th  refcomposite  refcomposite_5x5_10th  refcomposite_5x5_50th  \\\n",
       "0           NaN           NaN                    NaN                    NaN   \n",
       "1           NaN           NaN                    NaN                    NaN   \n",
       "2           NaN           NaN                    NaN                    NaN   \n",
       "3           NaN           NaN                    NaN                    NaN   \n",
       "4           NaN           NaN                    NaN                    NaN   \n",
       "\n",
       "   ...  rhohv_5x5_90th  zdr  zdr_5x5_10th  zdr_5x5_50th  zdr_5x5_90th  kdp  \\\n",
       "0  ...             NaN  NaN           NaN           NaN           NaN  NaN   \n",
       "1  ...             NaN  NaN           NaN           NaN           NaN  NaN   \n",
       "2  ...             NaN  NaN           NaN           NaN           NaN  NaN   \n",
       "3  ...             NaN  NaN           NaN           NaN           NaN  NaN   \n",
       "4  ...             NaN  NaN           NaN           NaN           NaN  NaN   \n",
       "\n",
       "   kdp_5x5_10th  kdp_5x5_50th  kdp_5x5_90th  expected  \n",
       "0           NaN           NaN           NaN     0.254  \n",
       "1           NaN           NaN           NaN     0.254  \n",
       "2           NaN           NaN           NaN     0.254  \n",
       "3           NaN           NaN           NaN     0.254  \n",
       "4           NaN           NaN           NaN     0.254  \n",
       "\n",
       "[5 rows x 24 columns]"
      ]
     },
     "execution_count": 9,
     "metadata": {},
     "output_type": "execute_result"
    }
   ],
   "source": [
    "train.head()"
   ]
  },
  {
   "cell_type": "code",
   "execution_count": 10,
   "metadata": {},
   "outputs": [],
   "source": [
    "train_t = train.copy()"
   ]
  },
  {
   "cell_type": "markdown",
   "metadata": {},
   "source": [
    "5-layer deep stacked Bi-RNN, 64-256 hidden units, dense after each hidden stack, \n",
    "last layer at each time position vector is fed into a dense layer with 1 output and ReLU. Take mean of the predictions from the entire top layer\n"
   ]
  },
  {
   "cell_type": "markdown",
   "metadata": {},
   "source": [
    "# Preprocessing\n",
    "exclude the rain gauges with readings above 70mm.\n",
    "replace missing radar feature values with zero\n",
    "each timestamp as a component in the feature vector, sequential nature of the input is preserved"
   ]
  },
  {
   "cell_type": "code",
   "execution_count": 11,
   "metadata": {},
   "outputs": [],
   "source": [
    "#train_t['count_id'] = train_t.groupby('Id')['Id'].transform('count')\n",
    "#train_t['count_None_Ref'] = train_t[~np.isnan(train_t.Ref)].transform('count')\n",
    "train_nones = train_t[~np.isnan(train_t['ref'])]['id'].unique()\n",
    "train_full = train_t['id']"
   ]
  },
  {
   "cell_type": "code",
   "execution_count": 12,
   "metadata": {},
   "outputs": [],
   "source": [
    "train_cleaned = train_t[np.in1d(train_full, train_nones)].fillna(0.0).reset_index(drop=True)"
   ]
  },
  {
   "cell_type": "code",
   "execution_count": 13,
   "metadata": {},
   "outputs": [],
   "source": [
    "ids = train_cleaned['id'].unique()\n",
    "train_ids = np.random.choice(ids,\n",
    "                               size=np.ceil(len(ids) * (9/10.)).astype(int),\n",
    "                               replace=False)"
   ]
  },
  {
   "cell_type": "code",
   "execution_count": 14,
   "metadata": {},
   "outputs": [],
   "source": [
    "train_data = train_cleaned.loc[train_cleaned['id'].isin(train_ids)]\n",
    "val_data = train_cleaned.loc[~train_cleaned['id'].isin(train_ids)]\n",
    "#[train.columns != 'expected']"
   ]
  },
  {
   "cell_type": "code",
   "execution_count": 15,
   "metadata": {},
   "outputs": [
    {
     "data": {
      "text/html": [
       "<div>\n",
       "<style scoped>\n",
       "    .dataframe tbody tr th:only-of-type {\n",
       "        vertical-align: middle;\n",
       "    }\n",
       "\n",
       "    .dataframe tbody tr th {\n",
       "        vertical-align: top;\n",
       "    }\n",
       "\n",
       "    .dataframe thead th {\n",
       "        text-align: right;\n",
       "    }\n",
       "</style>\n",
       "<table border=\"1\" class=\"dataframe\">\n",
       "  <thead>\n",
       "    <tr style=\"text-align: right;\">\n",
       "      <th></th>\n",
       "      <th>id</th>\n",
       "      <th>minutes_past</th>\n",
       "      <th>radardist_km</th>\n",
       "      <th>ref</th>\n",
       "      <th>ref_5x5_10th</th>\n",
       "      <th>ref_5x5_50th</th>\n",
       "      <th>ref_5x5_90th</th>\n",
       "      <th>refcomposite</th>\n",
       "      <th>refcomposite_5x5_10th</th>\n",
       "      <th>refcomposite_5x5_50th</th>\n",
       "      <th>...</th>\n",
       "      <th>rhohv_5x5_90th</th>\n",
       "      <th>zdr</th>\n",
       "      <th>zdr_5x5_10th</th>\n",
       "      <th>zdr_5x5_50th</th>\n",
       "      <th>zdr_5x5_90th</th>\n",
       "      <th>kdp</th>\n",
       "      <th>kdp_5x5_10th</th>\n",
       "      <th>kdp_5x5_50th</th>\n",
       "      <th>kdp_5x5_90th</th>\n",
       "      <th>expected</th>\n",
       "    </tr>\n",
       "  </thead>\n",
       "  <tbody>\n",
       "    <tr>\n",
       "      <th>0</th>\n",
       "      <td>2</td>\n",
       "      <td>1</td>\n",
       "      <td>2.0</td>\n",
       "      <td>9.0</td>\n",
       "      <td>5.0</td>\n",
       "      <td>7.5</td>\n",
       "      <td>10.5</td>\n",
       "      <td>15.0</td>\n",
       "      <td>10.5</td>\n",
       "      <td>16.5</td>\n",
       "      <td>...</td>\n",
       "      <td>0.998333</td>\n",
       "      <td>0.3750</td>\n",
       "      <td>-0.1250</td>\n",
       "      <td>0.3125</td>\n",
       "      <td>0.8750</td>\n",
       "      <td>1.059998</td>\n",
       "      <td>-1.410004</td>\n",
       "      <td>-0.350006</td>\n",
       "      <td>1.059998</td>\n",
       "      <td>1.016</td>\n",
       "    </tr>\n",
       "    <tr>\n",
       "      <th>1</th>\n",
       "      <td>2</td>\n",
       "      <td>6</td>\n",
       "      <td>2.0</td>\n",
       "      <td>26.5</td>\n",
       "      <td>22.5</td>\n",
       "      <td>25.5</td>\n",
       "      <td>31.5</td>\n",
       "      <td>26.5</td>\n",
       "      <td>26.5</td>\n",
       "      <td>28.5</td>\n",
       "      <td>...</td>\n",
       "      <td>1.005000</td>\n",
       "      <td>0.0625</td>\n",
       "      <td>-0.1875</td>\n",
       "      <td>0.2500</td>\n",
       "      <td>0.6875</td>\n",
       "      <td>0.000000</td>\n",
       "      <td>0.000000</td>\n",
       "      <td>0.000000</td>\n",
       "      <td>1.409988</td>\n",
       "      <td>1.016</td>\n",
       "    </tr>\n",
       "    <tr>\n",
       "      <th>2</th>\n",
       "      <td>2</td>\n",
       "      <td>11</td>\n",
       "      <td>2.0</td>\n",
       "      <td>21.5</td>\n",
       "      <td>15.5</td>\n",
       "      <td>20.5</td>\n",
       "      <td>25.0</td>\n",
       "      <td>26.5</td>\n",
       "      <td>23.5</td>\n",
       "      <td>25.0</td>\n",
       "      <td>...</td>\n",
       "      <td>1.001667</td>\n",
       "      <td>0.3125</td>\n",
       "      <td>-0.0625</td>\n",
       "      <td>0.3125</td>\n",
       "      <td>0.6250</td>\n",
       "      <td>0.349991</td>\n",
       "      <td>0.000000</td>\n",
       "      <td>-0.350006</td>\n",
       "      <td>1.759994</td>\n",
       "      <td>1.016</td>\n",
       "    </tr>\n",
       "    <tr>\n",
       "      <th>3</th>\n",
       "      <td>2</td>\n",
       "      <td>16</td>\n",
       "      <td>2.0</td>\n",
       "      <td>18.0</td>\n",
       "      <td>14.0</td>\n",
       "      <td>17.5</td>\n",
       "      <td>21.0</td>\n",
       "      <td>20.5</td>\n",
       "      <td>18.0</td>\n",
       "      <td>20.5</td>\n",
       "      <td>...</td>\n",
       "      <td>1.001667</td>\n",
       "      <td>0.2500</td>\n",
       "      <td>0.1250</td>\n",
       "      <td>0.3750</td>\n",
       "      <td>0.6875</td>\n",
       "      <td>0.349991</td>\n",
       "      <td>-1.059998</td>\n",
       "      <td>0.000000</td>\n",
       "      <td>1.059998</td>\n",
       "      <td>1.016</td>\n",
       "    </tr>\n",
       "    <tr>\n",
       "      <th>4</th>\n",
       "      <td>2</td>\n",
       "      <td>21</td>\n",
       "      <td>2.0</td>\n",
       "      <td>24.5</td>\n",
       "      <td>16.5</td>\n",
       "      <td>21.0</td>\n",
       "      <td>24.5</td>\n",
       "      <td>24.5</td>\n",
       "      <td>21.0</td>\n",
       "      <td>24.0</td>\n",
       "      <td>...</td>\n",
       "      <td>0.998333</td>\n",
       "      <td>0.2500</td>\n",
       "      <td>0.0625</td>\n",
       "      <td>0.1875</td>\n",
       "      <td>0.5625</td>\n",
       "      <td>-0.350006</td>\n",
       "      <td>-1.059998</td>\n",
       "      <td>-0.350006</td>\n",
       "      <td>1.759994</td>\n",
       "      <td>1.016</td>\n",
       "    </tr>\n",
       "  </tbody>\n",
       "</table>\n",
       "<p>5 rows × 24 columns</p>\n",
       "</div>"
      ],
      "text/plain": [
       "   id  minutes_past  radardist_km   ref  ref_5x5_10th  ref_5x5_50th  \\\n",
       "0   2             1           2.0   9.0           5.0           7.5   \n",
       "1   2             6           2.0  26.5          22.5          25.5   \n",
       "2   2            11           2.0  21.5          15.5          20.5   \n",
       "3   2            16           2.0  18.0          14.0          17.5   \n",
       "4   2            21           2.0  24.5          16.5          21.0   \n",
       "\n",
       "   ref_5x5_90th  refcomposite  refcomposite_5x5_10th  refcomposite_5x5_50th  \\\n",
       "0          10.5          15.0                   10.5                   16.5   \n",
       "1          31.5          26.5                   26.5                   28.5   \n",
       "2          25.0          26.5                   23.5                   25.0   \n",
       "3          21.0          20.5                   18.0                   20.5   \n",
       "4          24.5          24.5                   21.0                   24.0   \n",
       "\n",
       "   ...  rhohv_5x5_90th     zdr  zdr_5x5_10th  zdr_5x5_50th  zdr_5x5_90th  \\\n",
       "0  ...        0.998333  0.3750       -0.1250        0.3125        0.8750   \n",
       "1  ...        1.005000  0.0625       -0.1875        0.2500        0.6875   \n",
       "2  ...        1.001667  0.3125       -0.0625        0.3125        0.6250   \n",
       "3  ...        1.001667  0.2500        0.1250        0.3750        0.6875   \n",
       "4  ...        0.998333  0.2500        0.0625        0.1875        0.5625   \n",
       "\n",
       "        kdp  kdp_5x5_10th  kdp_5x5_50th  kdp_5x5_90th  expected  \n",
       "0  1.059998     -1.410004     -0.350006      1.059998     1.016  \n",
       "1  0.000000      0.000000      0.000000      1.409988     1.016  \n",
       "2  0.349991      0.000000     -0.350006      1.759994     1.016  \n",
       "3  0.349991     -1.059998      0.000000      1.059998     1.016  \n",
       "4 -0.350006     -1.059998     -0.350006      1.759994     1.016  \n",
       "\n",
       "[5 rows x 24 columns]"
      ]
     },
     "execution_count": 15,
     "metadata": {},
     "output_type": "execute_result"
    }
   ],
   "source": [
    "train_data.head()"
   ]
  },
  {
   "cell_type": "code",
   "execution_count": 16,
   "metadata": {},
   "outputs": [],
   "source": [
    "y_train = train_data.groupby('id')['expected'].last().values\n",
    "\n",
    "y_val = val_data.groupby('id')['expected'].last().values"
   ]
  },
  {
   "cell_type": "code",
   "execution_count": 17,
   "metadata": {},
   "outputs": [],
   "source": [
    "train_data = train_data.drop('expected', 1).fillna(0.0)\n",
    "val_data = val_data.drop('expected', 1).fillna(0.0)"
   ]
  },
  {
   "cell_type": "code",
   "execution_count": 18,
   "metadata": {},
   "outputs": [],
   "source": [
    "train_data_arr = train_data.groupby('id').apply(lambda x: x.values.astype('float')).values\n",
    "val_data_arr = val_data.groupby('id').apply(lambda x: x.values.astype('float')).values\n",
    "\n",
    "seq_lens_train = train_data.groupby('id').size().values\n",
    "seq_lens_val = val_data.groupby('id').size().values"
   ]
  },
  {
   "cell_type": "code",
   "execution_count": 19,
   "metadata": {},
   "outputs": [
    {
     "data": {
      "text/plain": [
       "array([12, 15, 12, 12,  7, 10, 12, 12, 10, 15])"
      ]
     },
     "execution_count": 19,
     "metadata": {},
     "output_type": "execute_result"
    }
   ],
   "source": [
    "seq_lens_train[:10]"
   ]
  },
  {
   "cell_type": "code",
   "execution_count": 20,
   "metadata": {},
   "outputs": [
    {
     "data": {
      "text/plain": [
       "((2837,), (2837,), (315,), (315,))"
      ]
     },
     "execution_count": 20,
     "metadata": {},
     "output_type": "execute_result"
    }
   ],
   "source": [
    "train_data_arr.shape, y_train.shape, val_data_arr.shape, y_val.shape "
   ]
  },
  {
   "cell_type": "code",
   "execution_count": 21,
   "metadata": {},
   "outputs": [
    {
     "data": {
      "text/plain": [
       "(2837, 12, 23)"
      ]
     },
     "execution_count": 21,
     "metadata": {},
     "output_type": "execute_result"
    }
   ],
   "source": [
    "train_data_arr.shape[0], train_data_arr[0].shape[0], train_data_arr[0].shape[1]"
   ]
  },
  {
   "cell_type": "code",
   "execution_count": 22,
   "metadata": {},
   "outputs": [],
   "source": [
    "seq_len = max([seq_lens_train.max(), seq_lens_val.max()])#choose the length of the sequence\n",
    "neurons = [32, 64, 128, 256, 500]\n",
    "n_in = train_data_arr[0].shape[1]#length of the feature vector of each element in a sequence\n",
    "n_out = 1#dim of the output feture vector"
   ]
  },
  {
   "cell_type": "code",
   "execution_count": 23,
   "metadata": {},
   "outputs": [],
   "source": [
    "val_pad = seq_pad(val_data_arr, n_in, seq_len)"
   ]
  },
  {
   "cell_type": "markdown",
   "metadata": {},
   "source": [
    "### Creating the RNN Model"
   ]
  },
  {
   "cell_type": "markdown",
   "metadata": {},
   "source": [
    "#### RNN-LSTM 1. Two Layers."
   ]
  },
  {
   "cell_type": "markdown",
   "metadata": {},
   "source": [
    "In this step we are building the RNN model that consists of two layers of LSTM stacked on top of the other. Also, we add a droput to overcome the overfitting.\n",
    "\n",
    "We have experimented with different number of neurons in different layers, with the number of units > 64 the model is quite complex, what results in a huge overfitteing"
   ]
  },
  {
   "cell_type": "code",
   "execution_count": 82,
   "metadata": {},
   "outputs": [],
   "source": [
    "tf.reset_default_graph()"
   ]
  },
  {
   "cell_type": "code",
   "execution_count": 83,
   "metadata": {},
   "outputs": [],
   "source": [
    "X = tf.placeholder(dtype=tf.float32, shape=[None, seq_len , n_in])\n",
    "y = tf.placeholder(tf.float32, [None])\n",
    "seq_length = tf.placeholder(dtype=tf.int16, shape=[None])\n",
    "\n",
    "with tf.variable_scope('lstm-rnn', initializer=tf.contrib.layers.variance_scaling_initializer()):\n",
    "    rnn_cell_1 = tf.contrib.rnn.LSTMCell(num_units=neurons[0])\n",
    "    rnn_cell_2 = tf.contrib.rnn.LSTMCell(num_units=neurons[1])\n",
    "    multi_layer_cell = tf.contrib.rnn.MultiRNNCell([rnn_cell_1, rnn_cell_2])\n",
    "    outputs, states = tf.nn.dynamic_rnn(multi_layer_cell, X, dtype=tf.float32,\n",
    "                                        sequence_length=seq_length)\n",
    "    drop = tf.layers.dropout(inputs=states[1], rate=0.4)\n",
    "    y_pred = tf.layers.dense(drop, n_out)"
   ]
  },
  {
   "cell_type": "code",
   "execution_count": 84,
   "metadata": {},
   "outputs": [],
   "source": [
    "learning_rate = 0.05\n",
    "\n",
    "error = (y-y_pred)\n",
    "loss = tf.reduce_mean(tf.square(error), name=\"loss\")\n",
    "global_step = tf.Variable(0, name='global_step', trainable=False)\n",
    "optimizer = tf.train.AdamOptimizer(learning_rate=learning_rate)\n",
    "minimizer = optimizer.minimize(loss, global_step=global_step)\n",
    "minimizer_val = optimizer.minimize(loss, global_step=global_step)\n",
    "\n",
    "mae = tf.reduce_mean(tf.abs(error))\n",
    "\n",
    "checkpoint_dir = './models/'\n",
    "best_ckpt_saver = BestCheckpointSaver(save_dir=checkpoint_dir, num_to_keep=3, maximize=False)"
   ]
  },
  {
   "cell_type": "code",
   "execution_count": 85,
   "metadata": {},
   "outputs": [],
   "source": [
    "init = tf.global_variables_initializer()\n",
    "saver = tf.train.Saver()"
   ]
  },
  {
   "cell_type": "code",
   "execution_count": 86,
   "metadata": {},
   "outputs": [
    {
     "name": "stdout",
     "output_type": "stream",
     "text": [
      "\n",
      "\n",
      "   0  Train loss: 69.2343, Train MAE: 3.89  Val MAE: 3.45\n",
      "\n",
      "\n",
      "   1  Train loss: 35.2518, Train MAE: 3.10  Val MAE: 3.14\n",
      "\n",
      "\n",
      "   2  Train loss: 35.1551, Train MAE: 3.06  Val MAE: 3.61\n",
      "\n",
      "\n",
      "   3  Train loss: 33.2832, Train MAE: 3.06  Val MAE: 3.25\n",
      "\n",
      "\n",
      "   4  Train loss: 35.7425, Train MAE: 3.07  Val MAE: 3.11\n",
      "\n",
      "\n",
      "   5  Train loss: 35.7073, Train MAE: 3.08  Val MAE: 3.34\n",
      "\n",
      "\n",
      "   6  Train loss: 35.2486, Train MAE: 3.10  Val MAE: 3.22\n",
      "\n",
      "\n",
      "   7  Train loss: 32.4737, Train MAE: 2.96  Val MAE: 3.41\n",
      "\n",
      "\n",
      "   8  Train loss: 35.9325, Train MAE: 3.10  Val MAE: 3.29\n",
      "\n",
      "\n",
      "   9  Train loss: 30.2344, Train MAE: 3.02  Val MAE: 3.23\n",
      "\n",
      "\n",
      "  10  Train loss: 34.3673, Train MAE: 3.05  Val MAE: 3.26\n",
      "\n",
      "\n",
      "  11  Train loss: 34.2686, Train MAE: 3.03  Val MAE: 3.58\n",
      "\n",
      "\n",
      "  12  Train loss: 35.2840, Train MAE: 3.06  Val MAE: 3.54\n",
      "\n",
      "\n",
      "  13  Train loss: 33.3282, Train MAE: 3.08  Val MAE: 3.31\n",
      "\n",
      "\n",
      "  14  Train loss: 34.6201, Train MAE: 3.09  Val MAE: 3.56\n",
      "\n",
      "\n",
      "  15  Train loss: 35.1186, Train MAE: 3.04  Val MAE: 3.48\n",
      "\n",
      "\n",
      "  16  Train loss: 36.0727, Train MAE: 3.11  Val MAE: 3.36\n",
      "\n",
      "\n",
      "  17  Train loss: 33.3900, Train MAE: 3.10  Val MAE: 3.41\n",
      "\n",
      "\n",
      "  18  Train loss: 33.6761, Train MAE: 3.05  Val MAE: 3.43\n",
      "\n",
      "\n",
      "  19  Train loss: 35.7291, Train MAE: 3.14  Val MAE: 3.28\n",
      "\n",
      "\n",
      "  20  Train loss: 36.0603, Train MAE: 3.13  Val MAE: 3.42\n",
      "\n",
      "\n",
      "  21  Train loss: 33.9874, Train MAE: 3.09  Val MAE: 3.51\n",
      "\n",
      "\n",
      "  22  Train loss: 35.4826, Train MAE: 3.05  Val MAE: 3.40\n",
      "\n",
      "\n",
      "  23  Train loss: 35.3545, Train MAE: 3.08  Val MAE: 3.34\n",
      "\n",
      "\n",
      "  24  Train loss: 33.8836, Train MAE: 3.08  Val MAE: 3.19\n",
      "\n",
      "\n",
      "  25  Train loss: 36.0592, Train MAE: 3.15  Val MAE: 3.46\n",
      "\n",
      "\n",
      "  26  Train loss: 35.7136, Train MAE: 3.08  Val MAE: 3.53\n",
      "\n",
      "\n",
      "  27  Train loss: 34.6945, Train MAE: 3.06  Val MAE: 3.47\n",
      "\n",
      "\n",
      "  28  Train loss: 35.8196, Train MAE: 3.19  Val MAE: 3.39\n",
      "\n",
      "\n",
      "  29  Train loss: 34.8680, Train MAE: 3.05  Val MAE: 3.47\n",
      "\n",
      "\n",
      "  30  Train loss: 35.1808, Train MAE: 3.05  Val MAE: 3.35\n",
      "\n",
      "\n",
      "  31  Train loss: 35.0938, Train MAE: 3.10  Val MAE: 3.40\n",
      "\n",
      "\n",
      "  32  Train loss: 35.7424, Train MAE: 3.15  Val MAE: 3.47\n",
      "\n",
      "\n",
      "  33  Train loss: 35.6878, Train MAE: 3.06  Val MAE: 3.45\n",
      "\n",
      "\n",
      "  34  Train loss: 35.6910, Train MAE: 3.13  Val MAE: 3.39\n",
      "\n",
      "\n",
      "  35  Train loss: 35.5880, Train MAE: 3.11  Val MAE: 3.41\n",
      "\n",
      "\n",
      "  36  Train loss: 35.8188, Train MAE: 3.12  Val MAE: 3.37\n",
      "\n",
      "\n",
      "  37  Train loss: 35.5877, Train MAE: 3.07  Val MAE: 3.55\n",
      "\n",
      "\n",
      "  38  Train loss: 35.2529, Train MAE: 3.15  Val MAE: 3.19\n",
      "\n",
      "\n",
      "  39  Train loss: 32.0764, Train MAE: 2.95  Val MAE: 3.48\n",
      "\n",
      "\n",
      "  40  Train loss: 35.8251, Train MAE: 3.15  Val MAE: 3.31\n",
      "\n",
      "\n",
      "  41  Train loss: 35.5041, Train MAE: 3.08  Val MAE: 3.33\n",
      "\n",
      "\n",
      "  42  Train loss: 35.1132, Train MAE: 3.11  Val MAE: 3.44\n",
      "\n",
      "\n",
      "  43  Train loss: 35.2780, Train MAE: 3.10  Val MAE: 3.42\n",
      "\n",
      "\n",
      "  44  Train loss: 35.6115, Train MAE: 3.11  Val MAE: 3.38\n",
      "\n",
      "\n",
      "  45  Train loss: 34.1996, Train MAE: 3.07  Val MAE: 3.48\n",
      "\n",
      "\n",
      "  46  Train loss: 35.1791, Train MAE: 3.08  Val MAE: 3.54\n",
      "\n",
      "\n",
      "  47  Train loss: 33.8348, Train MAE: 3.02  Val MAE: 3.46\n",
      "\n",
      "\n",
      "  48  Train loss: 34.6738, Train MAE: 3.19  Val MAE: 3.29\n",
      "\n",
      "\n",
      "  49  Train loss: 35.3583, Train MAE: 3.04  Val MAE: 3.44\n",
      "\n",
      "\n",
      "  50  Train loss: 35.5246, Train MAE: 3.08  Val MAE: 3.45\n",
      "\n",
      "\n",
      "  51  Train loss: 34.8296, Train MAE: 3.10  Val MAE: 3.46\n",
      "\n",
      "\n",
      "  52  Train loss: 35.7921, Train MAE: 3.20  Val MAE: 3.33\n",
      "\n",
      "\n",
      "  53  Train loss: 35.0548, Train MAE: 3.06  Val MAE: 3.47\n",
      "\n",
      "\n",
      "  54  Train loss: 32.0844, Train MAE: 3.02  Val MAE: 3.34\n",
      "\n",
      "\n",
      "  55  Train loss: 32.9895, Train MAE: 3.02  Val MAE: 3.43\n",
      "\n",
      "\n",
      "  56  Train loss: 33.9041, Train MAE: 3.08  Val MAE: 3.32\n",
      "\n",
      "\n",
      "  57  Train loss: 33.6422, Train MAE: 3.11  Val MAE: 3.31\n",
      "\n",
      "\n",
      "  58  Train loss: 35.4431, Train MAE: 3.09  Val MAE: 3.42\n",
      "\n",
      "\n",
      "  59  Train loss: 34.1194, Train MAE: 3.01  Val MAE: 3.43\n",
      "\n",
      "\n",
      "  60  Train loss: 35.2593, Train MAE: 3.16  Val MAE: 3.40\n",
      "\n",
      "\n",
      "  61  Train loss: 35.2381, Train MAE: 3.05  Val MAE: 3.36\n",
      "\n",
      "\n",
      "  62  Train loss: 35.6975, Train MAE: 3.04  Val MAE: 3.57\n",
      "\n",
      "\n",
      "  63  Train loss: 35.6876, Train MAE: 3.19  Val MAE: 3.34\n",
      "\n",
      "\n",
      "  64  Train loss: 34.7849, Train MAE: 3.08  Val MAE: 3.34\n",
      "\n",
      "\n",
      "  65  Train loss: 33.1469, Train MAE: 3.05  Val MAE: 3.47\n",
      "\n",
      "\n",
      "  66  Train loss: 35.0118, Train MAE: 3.03  Val MAE: 3.29\n",
      "\n",
      "\n",
      "  67  Train loss: 35.3630, Train MAE: 3.12  Val MAE: 3.53\n",
      "\n",
      "\n",
      "  68  Train loss: 34.6523, Train MAE: 3.06  Val MAE: 3.46\n",
      "\n",
      "\n",
      "  69  Train loss: 35.6354, Train MAE: 3.15  Val MAE: 3.40\n",
      "\n",
      "\n",
      "  70  Train loss: 35.3070, Train MAE: 3.06  Val MAE: 3.45\n",
      "\n",
      "\n",
      "  71  Train loss: 34.7175, Train MAE: 3.10  Val MAE: 3.43\n",
      "\n",
      "\n",
      "  72  Train loss: 36.0460, Train MAE: 3.22  Val MAE: 3.43\n",
      "\n",
      "\n",
      "  73  Train loss: 35.4092, Train MAE: 3.05  Val MAE: 3.42\n",
      "\n",
      "\n",
      "  74  Train loss: 34.2952, Train MAE: 3.08  Val MAE: 3.38\n",
      "\n",
      "\n",
      "  75  Train loss: 32.0370, Train MAE: 3.02  Val MAE: 3.36\n",
      "\n",
      "\n",
      "  76  Train loss: 34.2061, Train MAE: 3.07  Val MAE: 3.43\n",
      "\n",
      "\n",
      "  77  Train loss: 34.6547, Train MAE: 3.09  Val MAE: 3.46\n",
      "\n",
      "\n",
      "  78  Train loss: 35.8089, Train MAE: 3.09  Val MAE: 3.59\n",
      "\n",
      "\n",
      "  79  Train loss: 35.6270, Train MAE: 3.14  Val MAE: 3.37\n",
      "\n",
      "\n",
      "  80  Train loss: 34.1799, Train MAE: 3.09  Val MAE: 3.46\n",
      "\n",
      "\n",
      "  81  Train loss: 34.5570, Train MAE: 3.00  Val MAE: 3.59\n",
      "\n",
      "\n",
      "  82  Train loss: 34.3094, Train MAE: 3.21  Val MAE: 3.28\n",
      "\n",
      "\n",
      "  83  Train loss: 34.3000, Train MAE: 3.00  Val MAE: 3.42\n",
      "\n",
      "\n",
      "  84  Train loss: 35.8455, Train MAE: 3.17  Val MAE: 3.36\n",
      "\n",
      "\n",
      "  85  Train loss: 36.0140, Train MAE: 3.09  Val MAE: 3.66\n",
      "\n",
      "\n",
      "  86  Train loss: 35.9265, Train MAE: 3.17  Val MAE: 3.38\n",
      "\n",
      "\n",
      "  87  Train loss: 36.0095, Train MAE: 3.11  Val MAE: 3.32\n",
      "\n",
      "\n",
      "  88  Train loss: 34.0789, Train MAE: 3.10  Val MAE: 3.51\n",
      "\n",
      "\n",
      "  89  Train loss: 35.0941, Train MAE: 3.07  Val MAE: 3.38\n",
      "\n",
      "\n",
      "  90  Train loss: 33.6408, Train MAE: 3.05  Val MAE: 3.34\n",
      "\n",
      "\n",
      "  91  Train loss: 33.8142, Train MAE: 3.14  Val MAE: 3.33\n",
      "\n",
      "\n",
      "  92  Train loss: 34.2568, Train MAE: 2.97  Val MAE: 3.45\n",
      "\n",
      "\n",
      "  93  Train loss: 34.8587, Train MAE: 3.06  Val MAE: 3.35\n",
      "\n",
      "\n",
      "  94  Train loss: 34.1766, Train MAE: 3.10  Val MAE: 3.41\n",
      "\n",
      "\n",
      "  95  Train loss: 34.7633, Train MAE: 3.05  Val MAE: 3.52\n",
      "\n",
      "\n",
      "  96  Train loss: 35.3853, Train MAE: 3.12  Val MAE: 3.43\n",
      "\n",
      "\n",
      "  97  Train loss: 34.6675, Train MAE: 3.12  Val MAE: 3.34\n",
      "\n",
      "\n",
      "  98  Train loss: 35.5021, Train MAE: 3.05  Val MAE: 3.43\n",
      "\n",
      "\n",
      "  99  Train loss: 35.8064, Train MAE: 3.14  Val MAE: 3.46\n"
     ]
    }
   ],
   "source": [
    "n_samples = train_data_arr.shape[0]\n",
    "n_epochs = 100\n",
    "batch_size = len(train_data_arr) / 25\n",
    "#printbatch_size\n",
    "loss_hist = {'mae': {'train': [], 'val': []}, 'loss':{'train':[], 'val':[]}}\n",
    "\n",
    "with tf.Session() as sess:\n",
    "    init.run()\n",
    "    for epoch in range(n_epochs):\n",
    "        rand_idx = np.random.permutation(np.arange(n_samples))\n",
    "        train_loss_list = []\n",
    "        train_mae_list = []\n",
    "        for batch_i in range(int(n_samples // batch_size)):\n",
    "            batch_idx = rand_idx[int(batch_i*batch_size):int((batch_i+1)*batch_size)]\n",
    "            X_batch = seq_pad(train_data_arr[batch_idx], n_in, seq_len)\n",
    "            y_batch = y_train[batch_idx]\n",
    "            len_batch = seq_lens_train[batch_idx]\n",
    "            loss_train, _, step = sess.run(\n",
    "                    [loss, minimizer, global_step],\n",
    "                    feed_dict={X: X_batch, seq_length: len_batch, y: y_batch})\n",
    "            mae_train = mae.eval(feed_dict={X: X_batch, seq_length: len_batch, y: y_batch})\n",
    "            train_mae_list.append(float(mae_train))\n",
    "            train_loss_list.append(loss_train)\n",
    "        \n",
    "        print(\"\\n\")\n",
    "        \n",
    "        loss_train_mean = float(np.array(train_loss_list).mean())\n",
    "        mae_train_mean = float(np.array(train_mae_list).mean())\n",
    "        \n",
    "        \n",
    "        loss_hist['loss']['train'].append(loss_train_mean)\n",
    "        loss_hist['mae']['train'].append(mae_train_mean)\n",
    "        \n",
    "        loss_val, step = sess.run(\n",
    "                    [loss, global_step],\n",
    "                    feed_dict={X: val_pad, seq_length: seq_lens_val, y: y_val})\n",
    "        loss_hist['loss']['val'].append(loss_val)\n",
    "        \n",
    "        mae_val = mae.eval(feed_dict={X: val_pad, seq_length: seq_lens_val, y: y_val})\n",
    "        loss_hist['mae']['val'].append(float(mae_val))\n",
    "        \n",
    "        print(\"{:4d}  Train loss: {:.4f}, Train MAE: {:.2f}  Val MAE: {:.2f}\".format(\n",
    "                epoch, loss_train_mean, mae_train_mean, mae_val))\n",
    "        \n",
    "        best_ckpt_saver.handle(loss_val, sess, global_step)\n",
    "            #saver.save(sess, \"./models/model1.ckpt\")\n",
    "        #final_pred = y_pred.eval({X: val_pad, seq_length: seq_lens_val, y: y_test})"
   ]
  },
  {
   "cell_type": "code",
   "execution_count": 87,
   "metadata": {},
   "outputs": [
    {
     "data": {
      "text/plain": [
       "<matplotlib.legend.Legend at 0x7f055efea3c8>"
      ]
     },
     "execution_count": 87,
     "metadata": {},
     "output_type": "execute_result"
    },
    {
     "data": {
      "image/png": "[encoded data removed]",
      "text/plain": [
       "<matplotlib.figure.Figure at 0x7f055f657198>"
      ]
     },
     "metadata": {
      "needs_background": "light"
     },
     "output_type": "display_data"
    }
   ],
   "source": [
    "plt.figure(1)\n",
    "\n",
    "#history of accuracy\n",
    "plt.subplot(211)\n",
    "plt.plot(loss_hist['loss']['train'])\n",
    "plt.plot(loss_hist['loss']['val'])\n",
    "plt.title('model loss')\n",
    "plt.ylabel('loss')\n",
    "plt.xlabel('epoch')  \n",
    "plt.legend(['train', 'val'], loc='upper left')"
   ]
  },
  {
   "cell_type": "code",
   "execution_count": 89,
   "metadata": {},
   "outputs": [
    {
     "data": {
      "text/plain": [
       "<matplotlib.legend.Legend at 0x7f055ed2ed68>"
      ]
     },
     "execution_count": 89,
     "metadata": {},
     "output_type": "execute_result"
    },
    {
     "data": {
      "image/png": "[encoded data removed]",
      "text/plain": [
       "<matplotlib.figure.Figure at 0x7f055ef790b8>"
      ]
     },
     "metadata": {
      "needs_background": "light"
     },
     "output_type": "display_data"
    }
   ],
   "source": [
    "plt.figure(1)\n",
    "\n",
    "#history of accuracy\n",
    "plt.subplot(211)\n",
    "plt.plot(loss_hist['mae']['train'])\n",
    "plt.plot(loss_hist['mae']['val'])\n",
    "plt.title('model loss')\n",
    "plt.ylabel('mae')\n",
    "plt.xlabel('epoch')  \n",
    "plt.legend(['train', 'val'], loc='upper left')"
   ]
  },
  {
   "cell_type": "markdown",
   "metadata": {},
   "source": [
    "#### RNN-BiLSTM 2. 4 Layers"
   ]
  },
  {
   "cell_type": "markdown",
   "metadata": {},
   "source": [
    "We decided to enchance our model. We changed one directional LSTMS to Bidirectional and increased the number of layers on 4.\n",
    "\n",
    "We have experimented with different number of layers and neurons."
   ]
  },
  {
   "cell_type": "code",
   "execution_count": 90,
   "metadata": {},
   "outputs": [],
   "source": [
    "tf.reset_default_graph()"
   ]
  },
  {
   "cell_type": "code",
   "execution_count": 91,
   "metadata": {},
   "outputs": [],
   "source": [
    "X = tf.placeholder(dtype=tf.float32, shape=[None, seq_len , n_in])\n",
    "y = tf.placeholder(tf.float32, [None])\n",
    "seq_length = tf.placeholder(dtype=tf.int16, shape=[None])\n",
    "num_layers = [64, 64, 128, 128, 256]\n",
    "with tf.variable_scope('lstm-rnn2', initializer=tf.contrib.layers.variance_scaling_initializer()):\n",
    "\n",
    "    num_layers = 4\n",
    "    num_nodes = 128\n",
    "\n",
    "\n",
    "    # Define LSTM cells\n",
    "    enc_fw_cells = [tf.contrib.rnn.LSTMCell(num_nodes)for layer in range(num_layers)]\n",
    "    enc_bw_cells = [tf.contrib.rnn.LSTMCell(num_nodes) for layer in range(num_layers)]\n",
    "\n",
    "    # Connect LSTM cells bidirectionally and stack\n",
    "    (all_states, fw_state, bw_state) = tf.contrib.rnn.stack_bidirectional_dynamic_rnn(\n",
    "            cells_fw=enc_fw_cells, cells_bw=enc_bw_cells, inputs=X, dtype=tf.float32)\n",
    "\n",
    "    # Concatenate results\n",
    "    for k in range(num_layers):\n",
    "        if k == 0:\n",
    "            con_c = tf.concat((fw_state[k].c, bw_state[k].c), 1)\n",
    "            con_h = tf.concat((fw_state[k].h, bw_state[k].h), 1)\n",
    "        else:\n",
    "            con_c = tf.concat((con_c, fw_state[k].c, bw_state[k].c), 1)\n",
    "            con_h = tf.concat((con_h, fw_state[k].h, bw_state[k].h), 1)\n",
    "\n",
    "    output = tf.contrib.rnn.LSTMStateTuple(c=con_c, h=con_h)\n",
    "    drop = tf.layers.dropout(inputs=all_states[7], rate=0.4)\n",
    "    y_pred = tf.layers.dense(drop, n_out)"
   ]
  },
  {
   "cell_type": "code",
   "execution_count": null,
   "metadata": {},
   "outputs": [],
   "source": []
  },
  {
   "cell_type": "code",
   "execution_count": 92,
   "metadata": {},
   "outputs": [],
   "source": [
    "learning_rate = 0.05\n",
    "\n",
    "error = (y-y_pred)\n",
    "loss = tf.reduce_mean(tf.square(error), name=\"loss\")\n",
    "global_step = tf.Variable(0, name='global_step', trainable=False)\n",
    "optimizer = tf.train.AdamOptimizer(learning_rate=learning_rate)\n",
    "minimizer = optimizer.minimize(loss, global_step=global_step)\n",
    "minimizer_val = optimizer.minimize(loss, global_step=global_step)\n",
    "\n",
    "mae = tf.reduce_mean(tf.abs(error))\n",
    "\n",
    "checkpoint_dir = './models/'\n",
    "best_ckpt_saver = BestCheckpointSaver(save_dir=checkpoint_dir, num_to_keep=3, maximize=False)"
   ]
  },
  {
   "cell_type": "code",
   "execution_count": 93,
   "metadata": {},
   "outputs": [],
   "source": [
    "init = tf.global_variables_initializer()\n",
    "saver = tf.train.Saver()"
   ]
  },
  {
   "cell_type": "code",
   "execution_count": null,
   "metadata": {
    "scrolled": false
   },
   "outputs": [
    {
     "name": "stdout",
     "output_type": "stream",
     "text": [
      "\n",
      "\n",
      "   0  Train loss: 42.6806, Train MAE: 3.64  Val MAE: 3.19\n",
      "\n",
      "\n",
      "   1  Train loss: 35.8993, Train MAE: 3.17  Val MAE: 3.24\n",
      "\n",
      "\n",
      "   2  Train loss: 33.9734, Train MAE: 3.06  Val MAE: 3.24\n",
      "\n",
      "\n",
      "   3  Train loss: 33.6160, Train MAE: 3.10  Val MAE: 3.60\n",
      "\n",
      "\n",
      "   4  Train loss: 35.2235, Train MAE: 3.07  Val MAE: 3.39\n",
      "\n",
      "\n",
      "   5  Train loss: 36.3563, Train MAE: 3.17  Val MAE: 3.11\n",
      "\n",
      "\n",
      "   6  Train loss: 35.6056, Train MAE: 3.15  Val MAE: 2.98\n"
     ]
    }
   ],
   "source": [
    "n_samples = train_data_arr.shape[0]\n",
    "n_epochs = 50\n",
    "batch_size = len(train_data_arr) / 25\n",
    "#printbatch_size\n",
    "loss_hist = {'mae': {'train': [], 'val': []}, 'loss':{'train':[], 'val':[]}}\n",
    "\n",
    "with tf.Session() as sess:\n",
    "    init.run()\n",
    "    for epoch in range(n_epochs):\n",
    "        rand_idx = np.random.permutation(np.arange(n_samples))\n",
    "        train_loss_list = []\n",
    "        train_mae_list = []\n",
    "        for batch_i in range(int(n_samples // batch_size)):\n",
    "            batch_idx = rand_idx[int(batch_i*batch_size):int((batch_i+1)*batch_size)]\n",
    "            X_batch = seq_pad(train_data_arr[batch_idx], n_in, seq_len)\n",
    "            y_batch = y_train[batch_idx]\n",
    "            len_batch = seq_lens_train[batch_idx]\n",
    "            loss_train, _, step = sess.run(\n",
    "                    [loss, minimizer, global_step],\n",
    "                    feed_dict={X: X_batch, seq_length: len_batch, y: y_batch})\n",
    "            mae_train = mae.eval(feed_dict={X: X_batch, seq_length: len_batch, y: y_batch})\n",
    "            train_mae_list.append(float(mae_train))\n",
    "            train_loss_list.append(loss_train)\n",
    "        \n",
    "        print(\"\\n\")\n",
    "        \n",
    "        loss_train_mean = float(np.array(train_loss_list).mean())\n",
    "        mae_train_mean = float(np.array(train_mae_list).mean())\n",
    "        \n",
    "        \n",
    "        loss_hist['loss']['train'].append(loss_train_mean)\n",
    "        loss_hist['mae']['train'].append(mae_train_mean)\n",
    "        \n",
    "        loss_val, step = sess.run(\n",
    "                    [loss, global_step],\n",
    "                    feed_dict={X: val_pad, seq_length: seq_lens_val, y: y_val})\n",
    "        loss_hist['loss']['val'].append(loss_val)\n",
    "        \n",
    "        mae_val = mae.eval(feed_dict={X: val_pad, seq_length: seq_lens_val, y: y_val})\n",
    "        loss_hist['mae']['val'].append(float(mae_val))\n",
    "        \n",
    "        print(\"{:4d}  Train loss: {:.4f}, Train MAE: {:.2f}  Val MAE: {:.2f}\".format(\n",
    "                epoch, loss_train_mean, mae_train_mean, mae_val))\n",
    "        \n",
    "        best_ckpt_saver.handle(loss_val, sess, global_step)\n",
    "            #saver.save(sess, \"./models/model1.ckpt\")\n",
    "        #final_pred = y_pred.eval({X: val_pad, seq_length: seq_lens_val, y: y_test})"
   ]
  },
  {
   "cell_type": "markdown",
   "metadata": {},
   "source": [
    "As we can see from the plots from the first epochs the loss drops dramatically, and on the further steps it is mostly constant. That happens due to model trapping in the local minima."
   ]
  },
  {
   "cell_type": "code",
   "execution_count": null,
   "metadata": {},
   "outputs": [],
   "source": [
    "plt.figure(1)\n",
    "\n",
    "#history of accuracy\n",
    "plt.subplot(211)\n",
    "plt.plot(loss_hist['loss']['train'])\n",
    "plt.plot(loss_hist['loss']['val'])\n",
    "plt.title('model loss')\n",
    "plt.ylabel('loss')\n",
    "plt.xlabel('epoch')  \n",
    "plt.legend(['train', 'val'], loc='upper left')"
   ]
  },
  {
   "cell_type": "code",
   "execution_count": null,
   "metadata": {},
   "outputs": [],
   "source": [
    "plt.figure(1)\n",
    "\n",
    "#history of accuracy\n",
    "plt.subplot(211)\n",
    "plt.plot(loss_hist['mae']['train'])\n",
    "plt.plot(loss_hist['mae']['val'])\n",
    "plt.title('model loss')\n",
    "plt.ylabel('mae')\n",
    "plt.xlabel('epoch')  \n",
    "plt.legend(['train', 'val'], loc='upper left')"
   ]
  },
  {
   "cell_type": "markdown",
   "metadata": {},
   "source": [
    "## Test the model"
   ]
  },
  {
   "cell_type": "code",
   "execution_count": 59,
   "metadata": {},
   "outputs": [],
   "source": [
    "test_nones = test[~np.isnan(test['Ref'])]['Id'].unique()\n",
    "test_full = test['Id']\n",
    "test_cleaned = test[np.in1d(test_full, test_nones)].fillna(0.0).reset_index(drop=True)\n",
    "\n",
    "test_data_arr = test_cleaned.groupby('Id').apply(lambda x: x.values.astype('float')).values\n",
    "test_pad = seq_pad(test_data_arr, n_in, seq_len)"
   ]
  },
  {
   "cell_type": "code",
   "execution_count": 60,
   "metadata": {},
   "outputs": [],
   "source": [
    "#tf.reset_default_graph()"
   ]
  },
  {
   "cell_type": "code",
   "execution_count": 62,
   "metadata": {},
   "outputs": [],
   "source": [
    "sess = tf.InteractiveSession()"
   ]
  },
  {
   "cell_type": "code",
   "execution_count": 63,
   "metadata": {},
   "outputs": [
    {
     "name": "stdout",
     "output_type": "stream",
     "text": [
      "INFO:tensorflow:Restoring parameters from ./models/best.ckpt-5\n"
     ]
    },
    {
     "ename": "InvalidArgumentError",
     "evalue": "Restoring from checkpoint failed. This is most likely due to a mismatch between the current graph and the graph from the checkpoint. Please ensure that you have not altered the graph expected based on the checkpoint. Original error:\n\nAssign requires shapes of both tensors to match. lhs shape= [32,1] rhs shape= [64,1]\n\t [[Node: save_2/Assign_6 = Assign[T=DT_FLOAT, _class=[\"loc:@lstm-rnn/dense/kernel\"], use_locking=true, validate_shape=true, _device=\"/job:localhost/replica:0/task:0/device:CPU:0\"](lstm-rnn/dense/kernel, save_2/RestoreV2:6)]]\n\nCaused by op 'save_2/Assign_6', defined at:\n  File \"/home/gazizullina149/anaconda3/lib/python3.6/runpy.py\", line 193, in _run_module_as_main\n    \"__main__\", mod_spec)\n  File \"/home/gazizullina149/anaconda3/lib/python3.6/runpy.py\", line 85, in _run_code\n    exec(code, run_globals)\n  File \"/home/gazizullina149/anaconda3/lib/python3.6/site-packages/ipykernel_launcher.py\", line 16, in <module>\n    app.launch_new_instance()\n  File \"/home/gazizullina149/anaconda3/lib/python3.6/site-packages/traitlets/config/application.py\", line 658, in launch_instance\n    app.start()\n  File \"/home/gazizullina149/anaconda3/lib/python3.6/site-packages/ipykernel/kernelapp.py\", line 505, in start\n    self.io_loop.start()\n  File \"/home/gazizullina149/anaconda3/lib/python3.6/site-packages/tornado/platform/asyncio.py\", line 132, in start\n    self.asyncio_loop.run_forever()\n  File \"/home/gazizullina149/anaconda3/lib/python3.6/asyncio/base_events.py\", line 421, in run_forever\n    self._run_once()\n  File \"/home/gazizullina149/anaconda3/lib/python3.6/asyncio/base_events.py\", line 1426, in _run_once\n    handle._run()\n  File \"/home/gazizullina149/anaconda3/lib/python3.6/asyncio/events.py\", line 127, in _run\n    self._callback(*self._args)\n  File \"/home/gazizullina149/anaconda3/lib/python3.6/site-packages/tornado/ioloop.py\", line 758, in _run_callback\n    ret = callback()\n  File \"/home/gazizullina149/anaconda3/lib/python3.6/site-packages/tornado/stack_context.py\", line 300, in null_wrapper\n    return fn(*args, **kwargs)\n  File \"/home/gazizullina149/anaconda3/lib/python3.6/site-packages/tornado/gen.py\", line 1233, in inner\n    self.run()\n  File \"/home/gazizullina149/anaconda3/lib/python3.6/site-packages/tornado/gen.py\", line 1147, in run\n    yielded = self.gen.send(value)\n  File \"/home/gazizullina149/anaconda3/lib/python3.6/site-packages/ipykernel/kernelbase.py\", line 357, in process_one\n    yield gen.maybe_future(dispatch(*args))\n  File \"/home/gazizullina149/anaconda3/lib/python3.6/site-packages/tornado/gen.py\", line 326, in wrapper\n    yielded = next(result)\n  File \"/home/gazizullina149/anaconda3/lib/python3.6/site-packages/ipykernel/kernelbase.py\", line 267, in dispatch_shell\n    yield gen.maybe_future(handler(stream, idents, msg))\n  File \"/home/gazizullina149/anaconda3/lib/python3.6/site-packages/tornado/gen.py\", line 326, in wrapper\n    yielded = next(result)\n  File \"/home/gazizullina149/anaconda3/lib/python3.6/site-packages/ipykernel/kernelbase.py\", line 534, in execute_request\n    user_expressions, allow_stdin,\n  File \"/home/gazizullina149/anaconda3/lib/python3.6/site-packages/tornado/gen.py\", line 326, in wrapper\n    yielded = next(result)\n  File \"/home/gazizullina149/anaconda3/lib/python3.6/site-packages/ipykernel/ipkernel.py\", line 294, in do_execute\n    res = shell.run_cell(code, store_history=store_history, silent=silent)\n  File \"/home/gazizullina149/anaconda3/lib/python3.6/site-packages/ipykernel/zmqshell.py\", line 536, in run_cell\n    return super(ZMQInteractiveShell, self).run_cell(*args, **kwargs)\n  File \"/home/gazizullina149/anaconda3/lib/python3.6/site-packages/IPython/core/interactiveshell.py\", line 2819, in run_cell\n    raw_cell, store_history, silent, shell_futures)\n  File \"/home/gazizullina149/anaconda3/lib/python3.6/site-packages/IPython/core/interactiveshell.py\", line 2845, in _run_cell\n    return runner(coro)\n  File \"/home/gazizullina149/anaconda3/lib/python3.6/site-packages/IPython/core/async_helpers.py\", line 67, in _pseudo_sync_runner\n    coro.send(None)\n  File \"/home/gazizullina149/anaconda3/lib/python3.6/site-packages/IPython/core/interactiveshell.py\", line 3020, in run_cell_async\n    interactivity=interactivity, compiler=compiler, result=result)\n  File \"/home/gazizullina149/anaconda3/lib/python3.6/site-packages/IPython/core/interactiveshell.py\", line 3191, in run_ast_nodes\n    if (yield from self.run_code(code, result)):\n  File \"/home/gazizullina149/anaconda3/lib/python3.6/site-packages/IPython/core/interactiveshell.py\", line 3267, in run_code\n    exec(code_obj, self.user_global_ns, self.user_ns)\n  File \"<ipython-input-63-c808d3833331>\", line 1, in <module>\n    tf.train.Saver().restore(sess, checkmate.get_best_checkpoint(checkpoint_dir, select_maximum_value=False))\n  File \"/home/gazizullina149/anaconda3/lib/python3.6/site-packages/tensorflow/python/training/saver.py\", line 1281, in __init__\n    self.build()\n  File \"/home/gazizullina149/anaconda3/lib/python3.6/site-packages/tensorflow/python/training/saver.py\", line 1293, in build\n    self._build(self._filename, build_save=True, build_restore=True)\n  File \"/home/gazizullina149/anaconda3/lib/python3.6/site-packages/tensorflow/python/training/saver.py\", line 1330, in _build\n    build_save=build_save, build_restore=build_restore)\n  File \"/home/gazizullina149/anaconda3/lib/python3.6/site-packages/tensorflow/python/training/saver.py\", line 778, in _build_internal\n    restore_sequentially, reshape)\n  File \"/home/gazizullina149/anaconda3/lib/python3.6/site-packages/tensorflow/python/training/saver.py\", line 419, in _AddRestoreOps\n    assign_ops.append(saveable.restore(saveable_tensors, shapes))\n  File \"/home/gazizullina149/anaconda3/lib/python3.6/site-packages/tensorflow/python/training/saver.py\", line 112, in restore\n    self.op.get_shape().is_fully_defined())\n  File \"/home/gazizullina149/anaconda3/lib/python3.6/site-packages/tensorflow/python/ops/state_ops.py\", line 216, in assign\n    validate_shape=validate_shape)\n  File \"/home/gazizullina149/anaconda3/lib/python3.6/site-packages/tensorflow/python/ops/gen_state_ops.py\", line 60, in assign\n    use_locking=use_locking, name=name)\n  File \"/home/gazizullina149/anaconda3/lib/python3.6/site-packages/tensorflow/python/framework/op_def_library.py\", line 787, in _apply_op_helper\n    op_def=op_def)\n  File \"/home/gazizullina149/anaconda3/lib/python3.6/site-packages/tensorflow/python/util/deprecation.py\", line 454, in new_func\n    return func(*args, **kwargs)\n  File \"/home/gazizullina149/anaconda3/lib/python3.6/site-packages/tensorflow/python/framework/ops.py\", line 3155, in create_op\n    op_def=op_def)\n  File \"/home/gazizullina149/anaconda3/lib/python3.6/site-packages/tensorflow/python/framework/ops.py\", line 1717, in __init__\n    self._traceback = tf_stack.extract_stack()\n\nInvalidArgumentError (see above for traceback): Restoring from checkpoint failed. This is most likely due to a mismatch between the current graph and the graph from the checkpoint. Please ensure that you have not altered the graph expected based on the checkpoint. Original error:\n\nAssign requires shapes of both tensors to match. lhs shape= [32,1] rhs shape= [64,1]\n\t [[Node: save_2/Assign_6 = Assign[T=DT_FLOAT, _class=[\"loc:@lstm-rnn/dense/kernel\"], use_locking=true, validate_shape=true, _device=\"/job:localhost/replica:0/task:0/device:CPU:0\"](lstm-rnn/dense/kernel, save_2/RestoreV2:6)]]\n",
     "output_type": "error",
     "traceback": [
      "\u001b[0;31m---------------------------------------------------------------------------\u001b[0m",
      "\u001b[0;31mInvalidArgumentError\u001b[0m                      Traceback (most recent call last)",
      "\u001b[0;32m~/anaconda3/lib/python3.6/site-packages/tensorflow/python/client/session.py\u001b[0m in \u001b[0;36m_do_call\u001b[0;34m(self, fn, *args)\u001b[0m\n\u001b[1;32m   1277\u001b[0m     \u001b[0;32mtry\u001b[0m\u001b[0;34m:\u001b[0m\u001b[0;34m\u001b[0m\u001b[0m\n\u001b[0;32m-> 1278\u001b[0;31m       \u001b[0;32mreturn\u001b[0m \u001b[0mfn\u001b[0m\u001b[0;34m(\u001b[0m\u001b[0;34m*\u001b[0m\u001b[0margs\u001b[0m\u001b[0;34m)\u001b[0m\u001b[0;34m\u001b[0m\u001b[0m\n\u001b[0m\u001b[1;32m   1279\u001b[0m     \u001b[0;32mexcept\u001b[0m \u001b[0merrors\u001b[0m\u001b[0;34m.\u001b[0m\u001b[0mOpError\u001b[0m \u001b[0;32mas\u001b[0m \u001b[0me\u001b[0m\u001b[0;34m:\u001b[0m\u001b[0;34m\u001b[0m\u001b[0m\n",
      "\u001b[0;32m~/anaconda3/lib/python3.6/site-packages/tensorflow/python/client/session.py\u001b[0m in \u001b[0;36m_run_fn\u001b[0;34m(feed_dict, fetch_list, target_list, options, run_metadata)\u001b[0m\n\u001b[1;32m   1262\u001b[0m       return self._call_tf_sessionrun(\n\u001b[0;32m-> 1263\u001b[0;31m           options, feed_dict, fetch_list, target_list, run_metadata)\n\u001b[0m\u001b[1;32m   1264\u001b[0m \u001b[0;34m\u001b[0m\u001b[0m\n",
      "\u001b[0;32m~/anaconda3/lib/python3.6/site-packages/tensorflow/python/client/session.py\u001b[0m in \u001b[0;36m_call_tf_sessionrun\u001b[0;34m(self, options, feed_dict, fetch_list, target_list, run_metadata)\u001b[0m\n\u001b[1;32m   1349\u001b[0m         \u001b[0mself\u001b[0m\u001b[0;34m.\u001b[0m\u001b[0m_session\u001b[0m\u001b[0;34m,\u001b[0m \u001b[0moptions\u001b[0m\u001b[0;34m,\u001b[0m \u001b[0mfeed_dict\u001b[0m\u001b[0;34m,\u001b[0m \u001b[0mfetch_list\u001b[0m\u001b[0;34m,\u001b[0m \u001b[0mtarget_list\u001b[0m\u001b[0;34m,\u001b[0m\u001b[0;34m\u001b[0m\u001b[0m\n\u001b[0;32m-> 1350\u001b[0;31m         run_metadata)\n\u001b[0m\u001b[1;32m   1351\u001b[0m \u001b[0;34m\u001b[0m\u001b[0m\n",
      "\u001b[0;31mInvalidArgumentError\u001b[0m: Assign requires shapes of both tensors to match. lhs shape= [32,1] rhs shape= [64,1]\n\t [[Node: save_2/Assign_6 = Assign[T=DT_FLOAT, _class=[\"loc:@lstm-rnn/dense/kernel\"], use_locking=true, validate_shape=true, _device=\"/job:localhost/replica:0/task:0/device:CPU:0\"](lstm-rnn/dense/kernel, save_2/RestoreV2:6)]]",
      "\nDuring handling of the above exception, another exception occurred:\n",
      "\u001b[0;31mInvalidArgumentError\u001b[0m                      Traceback (most recent call last)",
      "\u001b[0;32m~/anaconda3/lib/python3.6/site-packages/tensorflow/python/training/saver.py\u001b[0m in \u001b[0;36mrestore\u001b[0;34m(self, sess, save_path)\u001b[0m\n\u001b[1;32m   1724\u001b[0m         sess.run(self.saver_def.restore_op_name,\n\u001b[0;32m-> 1725\u001b[0;31m                  {self.saver_def.filename_tensor_name: save_path})\n\u001b[0m\u001b[1;32m   1726\u001b[0m     \u001b[0;32mexcept\u001b[0m \u001b[0merrors\u001b[0m\u001b[0;34m.\u001b[0m\u001b[0mNotFoundError\u001b[0m \u001b[0;32mas\u001b[0m \u001b[0merr\u001b[0m\u001b[0;34m:\u001b[0m\u001b[0;34m\u001b[0m\u001b[0m\n",
      "\u001b[0;32m~/anaconda3/lib/python3.6/site-packages/tensorflow/python/client/session.py\u001b[0m in \u001b[0;36mrun\u001b[0;34m(self, fetches, feed_dict, options, run_metadata)\u001b[0m\n\u001b[1;32m    876\u001b[0m       result = self._run(None, fetches, feed_dict, options_ptr,\n\u001b[0;32m--> 877\u001b[0;31m                          run_metadata_ptr)\n\u001b[0m\u001b[1;32m    878\u001b[0m       \u001b[0;32mif\u001b[0m \u001b[0mrun_metadata\u001b[0m\u001b[0;34m:\u001b[0m\u001b[0;34m\u001b[0m\u001b[0m\n",
      "\u001b[0;32m~/anaconda3/lib/python3.6/site-packages/tensorflow/python/client/session.py\u001b[0m in \u001b[0;36m_run\u001b[0;34m(self, handle, fetches, feed_dict, options, run_metadata)\u001b[0m\n\u001b[1;32m   1099\u001b[0m       results = self._do_run(handle, final_targets, final_fetches,\n\u001b[0;32m-> 1100\u001b[0;31m                              feed_dict_tensor, options, run_metadata)\n\u001b[0m\u001b[1;32m   1101\u001b[0m     \u001b[0;32melse\u001b[0m\u001b[0;34m:\u001b[0m\u001b[0;34m\u001b[0m\u001b[0m\n",
      "\u001b[0;32m~/anaconda3/lib/python3.6/site-packages/tensorflow/python/client/session.py\u001b[0m in \u001b[0;36m_do_run\u001b[0;34m(self, handle, target_list, fetch_list, feed_dict, options, run_metadata)\u001b[0m\n\u001b[1;32m   1271\u001b[0m       return self._do_call(_run_fn, feeds, fetches, targets, options,\n\u001b[0;32m-> 1272\u001b[0;31m                            run_metadata)\n\u001b[0m\u001b[1;32m   1273\u001b[0m     \u001b[0;32melse\u001b[0m\u001b[0;34m:\u001b[0m\u001b[0;34m\u001b[0m\u001b[0m\n",
      "\u001b[0;32m~/anaconda3/lib/python3.6/site-packages/tensorflow/python/client/session.py\u001b[0m in \u001b[0;36m_do_call\u001b[0;34m(self, fn, *args)\u001b[0m\n\u001b[1;32m   1290\u001b[0m           \u001b[0;32mpass\u001b[0m\u001b[0;34m\u001b[0m\u001b[0m\n\u001b[0;32m-> 1291\u001b[0;31m       \u001b[0;32mraise\u001b[0m \u001b[0mtype\u001b[0m\u001b[0;34m(\u001b[0m\u001b[0me\u001b[0m\u001b[0;34m)\u001b[0m\u001b[0;34m(\u001b[0m\u001b[0mnode_def\u001b[0m\u001b[0;34m,\u001b[0m \u001b[0mop\u001b[0m\u001b[0;34m,\u001b[0m \u001b[0mmessage\u001b[0m\u001b[0;34m)\u001b[0m\u001b[0;34m\u001b[0m\u001b[0m\n\u001b[0m\u001b[1;32m   1292\u001b[0m \u001b[0;34m\u001b[0m\u001b[0m\n",
      "\u001b[0;31mInvalidArgumentError\u001b[0m: Assign requires shapes of both tensors to match. lhs shape= [32,1] rhs shape= [64,1]\n\t [[Node: save_2/Assign_6 = Assign[T=DT_FLOAT, _class=[\"loc:@lstm-rnn/dense/kernel\"], use_locking=true, validate_shape=true, _device=\"/job:localhost/replica:0/task:0/device:CPU:0\"](lstm-rnn/dense/kernel, save_2/RestoreV2:6)]]\n\nCaused by op 'save_2/Assign_6', defined at:\n  File \"/home/gazizullina149/anaconda3/lib/python3.6/runpy.py\", line 193, in _run_module_as_main\n    \"__main__\", mod_spec)\n  File \"/home/gazizullina149/anaconda3/lib/python3.6/runpy.py\", line 85, in _run_code\n    exec(code, run_globals)\n  File \"/home/gazizullina149/anaconda3/lib/python3.6/site-packages/ipykernel_launcher.py\", line 16, in <module>\n    app.launch_new_instance()\n  File \"/home/gazizullina149/anaconda3/lib/python3.6/site-packages/traitlets/config/application.py\", line 658, in launch_instance\n    app.start()\n  File \"/home/gazizullina149/anaconda3/lib/python3.6/site-packages/ipykernel/kernelapp.py\", line 505, in start\n    self.io_loop.start()\n  File \"/home/gazizullina149/anaconda3/lib/python3.6/site-packages/tornado/platform/asyncio.py\", line 132, in start\n    self.asyncio_loop.run_forever()\n  File \"/home/gazizullina149/anaconda3/lib/python3.6/asyncio/base_events.py\", line 421, in run_forever\n    self._run_once()\n  File \"/home/gazizullina149/anaconda3/lib/python3.6/asyncio/base_events.py\", line 1426, in _run_once\n    handle._run()\n  File \"/home/gazizullina149/anaconda3/lib/python3.6/asyncio/events.py\", line 127, in _run\n    self._callback(*self._args)\n  File \"/home/gazizullina149/anaconda3/lib/python3.6/site-packages/tornado/ioloop.py\", line 758, in _run_callback\n    ret = callback()\n  File \"/home/gazizullina149/anaconda3/lib/python3.6/site-packages/tornado/stack_context.py\", line 300, in null_wrapper\n    return fn(*args, **kwargs)\n  File \"/home/gazizullina149/anaconda3/lib/python3.6/site-packages/tornado/gen.py\", line 1233, in inner\n    self.run()\n  File \"/home/gazizullina149/anaconda3/lib/python3.6/site-packages/tornado/gen.py\", line 1147, in run\n    yielded = self.gen.send(value)\n  File \"/home/gazizullina149/anaconda3/lib/python3.6/site-packages/ipykernel/kernelbase.py\", line 357, in process_one\n    yield gen.maybe_future(dispatch(*args))\n  File \"/home/gazizullina149/anaconda3/lib/python3.6/site-packages/tornado/gen.py\", line 326, in wrapper\n    yielded = next(result)\n  File \"/home/gazizullina149/anaconda3/lib/python3.6/site-packages/ipykernel/kernelbase.py\", line 267, in dispatch_shell\n    yield gen.maybe_future(handler(stream, idents, msg))\n  File \"/home/gazizullina149/anaconda3/lib/python3.6/site-packages/tornado/gen.py\", line 326, in wrapper\n    yielded = next(result)\n  File \"/home/gazizullina149/anaconda3/lib/python3.6/site-packages/ipykernel/kernelbase.py\", line 534, in execute_request\n    user_expressions, allow_stdin,\n  File \"/home/gazizullina149/anaconda3/lib/python3.6/site-packages/tornado/gen.py\", line 326, in wrapper\n    yielded = next(result)\n  File \"/home/gazizullina149/anaconda3/lib/python3.6/site-packages/ipykernel/ipkernel.py\", line 294, in do_execute\n    res = shell.run_cell(code, store_history=store_history, silent=silent)\n  File \"/home/gazizullina149/anaconda3/lib/python3.6/site-packages/ipykernel/zmqshell.py\", line 536, in run_cell\n    return super(ZMQInteractiveShell, self).run_cell(*args, **kwargs)\n  File \"/home/gazizullina149/anaconda3/lib/python3.6/site-packages/IPython/core/interactiveshell.py\", line 2819, in run_cell\n    raw_cell, store_history, silent, shell_futures)\n  File \"/home/gazizullina149/anaconda3/lib/python3.6/site-packages/IPython/core/interactiveshell.py\", line 2845, in _run_cell\n    return runner(coro)\n  File \"/home/gazizullina149/anaconda3/lib/python3.6/site-packages/IPython/core/async_helpers.py\", line 67, in _pseudo_sync_runner\n    coro.send(None)\n  File \"/home/gazizullina149/anaconda3/lib/python3.6/site-packages/IPython/core/interactiveshell.py\", line 3020, in run_cell_async\n    interactivity=interactivity, compiler=compiler, result=result)\n  File \"/home/gazizullina149/anaconda3/lib/python3.6/site-packages/IPython/core/interactiveshell.py\", line 3191, in run_ast_nodes\n    if (yield from self.run_code(code, result)):\n  File \"/home/gazizullina149/anaconda3/lib/python3.6/site-packages/IPython/core/interactiveshell.py\", line 3267, in run_code\n    exec(code_obj, self.user_global_ns, self.user_ns)\n  File \"<ipython-input-63-c808d3833331>\", line 1, in <module>\n    tf.train.Saver().restore(sess, checkmate.get_best_checkpoint(checkpoint_dir, select_maximum_value=False))\n  File \"/home/gazizullina149/anaconda3/lib/python3.6/site-packages/tensorflow/python/training/saver.py\", line 1281, in __init__\n    self.build()\n  File \"/home/gazizullina149/anaconda3/lib/python3.6/site-packages/tensorflow/python/training/saver.py\", line 1293, in build\n    self._build(self._filename, build_save=True, build_restore=True)\n  File \"/home/gazizullina149/anaconda3/lib/python3.6/site-packages/tensorflow/python/training/saver.py\", line 1330, in _build\n    build_save=build_save, build_restore=build_restore)\n  File \"/home/gazizullina149/anaconda3/lib/python3.6/site-packages/tensorflow/python/training/saver.py\", line 778, in _build_internal\n    restore_sequentially, reshape)\n  File \"/home/gazizullina149/anaconda3/lib/python3.6/site-packages/tensorflow/python/training/saver.py\", line 419, in _AddRestoreOps\n    assign_ops.append(saveable.restore(saveable_tensors, shapes))\n  File \"/home/gazizullina149/anaconda3/lib/python3.6/site-packages/tensorflow/python/training/saver.py\", line 112, in restore\n    self.op.get_shape().is_fully_defined())\n  File \"/home/gazizullina149/anaconda3/lib/python3.6/site-packages/tensorflow/python/ops/state_ops.py\", line 216, in assign\n    validate_shape=validate_shape)\n  File \"/home/gazizullina149/anaconda3/lib/python3.6/site-packages/tensorflow/python/ops/gen_state_ops.py\", line 60, in assign\n    use_locking=use_locking, name=name)\n  File \"/home/gazizullina149/anaconda3/lib/python3.6/site-packages/tensorflow/python/framework/op_def_library.py\", line 787, in _apply_op_helper\n    op_def=op_def)\n  File \"/home/gazizullina149/anaconda3/lib/python3.6/site-packages/tensorflow/python/util/deprecation.py\", line 454, in new_func\n    return func(*args, **kwargs)\n  File \"/home/gazizullina149/anaconda3/lib/python3.6/site-packages/tensorflow/python/framework/ops.py\", line 3155, in create_op\n    op_def=op_def)\n  File \"/home/gazizullina149/anaconda3/lib/python3.6/site-packages/tensorflow/python/framework/ops.py\", line 1717, in __init__\n    self._traceback = tf_stack.extract_stack()\n\nInvalidArgumentError (see above for traceback): Assign requires shapes of both tensors to match. lhs shape= [32,1] rhs shape= [64,1]\n\t [[Node: save_2/Assign_6 = Assign[T=DT_FLOAT, _class=[\"loc:@lstm-rnn/dense/kernel\"], use_locking=true, validate_shape=true, _device=\"/job:localhost/replica:0/task:0/device:CPU:0\"](lstm-rnn/dense/kernel, save_2/RestoreV2:6)]]\n",
      "\nDuring handling of the above exception, another exception occurred:\n",
      "\u001b[0;31mInvalidArgumentError\u001b[0m                      Traceback (most recent call last)",
      "\u001b[0;32m<ipython-input-63-c808d3833331>\u001b[0m in \u001b[0;36m<module>\u001b[0;34m\u001b[0m\n\u001b[0;32m----> 1\u001b[0;31m \u001b[0mtf\u001b[0m\u001b[0;34m.\u001b[0m\u001b[0mtrain\u001b[0m\u001b[0;34m.\u001b[0m\u001b[0mSaver\u001b[0m\u001b[0;34m(\u001b[0m\u001b[0;34m)\u001b[0m\u001b[0;34m.\u001b[0m\u001b[0mrestore\u001b[0m\u001b[0;34m(\u001b[0m\u001b[0msess\u001b[0m\u001b[0;34m,\u001b[0m \u001b[0mcheckmate\u001b[0m\u001b[0;34m.\u001b[0m\u001b[0mget_best_checkpoint\u001b[0m\u001b[0;34m(\u001b[0m\u001b[0mcheckpoint_dir\u001b[0m\u001b[0;34m,\u001b[0m \u001b[0mselect_maximum_value\u001b[0m\u001b[0;34m=\u001b[0m\u001b[0;32mFalse\u001b[0m\u001b[0;34m)\u001b[0m\u001b[0;34m)\u001b[0m\u001b[0;34m\u001b[0m\u001b[0m\n\u001b[0m",
      "\u001b[0;32m~/anaconda3/lib/python3.6/site-packages/tensorflow/python/training/saver.py\u001b[0m in \u001b[0;36mrestore\u001b[0;34m(self, sess, save_path)\u001b[0m\n\u001b[1;32m   1757\u001b[0m       \u001b[0;31m# We add a more reasonable error message here to help users (b/110263146)\u001b[0m\u001b[0;34m\u001b[0m\u001b[0;34m\u001b[0m\u001b[0m\n\u001b[1;32m   1758\u001b[0m       raise _wrap_restore_error_with_msg(\n\u001b[0;32m-> 1759\u001b[0;31m           err, \"a mismatch between the current graph and the graph\")\n\u001b[0m\u001b[1;32m   1760\u001b[0m \u001b[0;34m\u001b[0m\u001b[0m\n\u001b[1;32m   1761\u001b[0m   def _restore_from_object_based_checkpoint(self, sess, save_path,\n",
      "\u001b[0;31mInvalidArgumentError\u001b[0m: Restoring from checkpoint failed. This is most likely due to a mismatch between the current graph and the graph from the checkpoint. Please ensure that you have not altered the graph expected based on the checkpoint. Original error:\n\nAssign requires shapes of both tensors to match. lhs shape= [32,1] rhs shape= [64,1]\n\t [[Node: save_2/Assign_6 = Assign[T=DT_FLOAT, _class=[\"loc:@lstm-rnn/dense/kernel\"], use_locking=true, validate_shape=true, _device=\"/job:localhost/replica:0/task:0/device:CPU:0\"](lstm-rnn/dense/kernel, save_2/RestoreV2:6)]]\n\nCaused by op 'save_2/Assign_6', defined at:\n  File \"/home/gazizullina149/anaconda3/lib/python3.6/runpy.py\", line 193, in _run_module_as_main\n    \"__main__\", mod_spec)\n  File \"/home/gazizullina149/anaconda3/lib/python3.6/runpy.py\", line 85, in _run_code\n    exec(code, run_globals)\n  File \"/home/gazizullina149/anaconda3/lib/python3.6/site-packages/ipykernel_launcher.py\", line 16, in <module>\n    app.launch_new_instance()\n  File \"/home/gazizullina149/anaconda3/lib/python3.6/site-packages/traitlets/config/application.py\", line 658, in launch_instance\n    app.start()\n  File \"/home/gazizullina149/anaconda3/lib/python3.6/site-packages/ipykernel/kernelapp.py\", line 505, in start\n    self.io_loop.start()\n  File \"/home/gazizullina149/anaconda3/lib/python3.6/site-packages/tornado/platform/asyncio.py\", line 132, in start\n    self.asyncio_loop.run_forever()\n  File \"/home/gazizullina149/anaconda3/lib/python3.6/asyncio/base_events.py\", line 421, in run_forever\n    self._run_once()\n  File \"/home/gazizullina149/anaconda3/lib/python3.6/asyncio/base_events.py\", line 1426, in _run_once\n    handle._run()\n  File \"/home/gazizullina149/anaconda3/lib/python3.6/asyncio/events.py\", line 127, in _run\n    self._callback(*self._args)\n  File \"/home/gazizullina149/anaconda3/lib/python3.6/site-packages/tornado/ioloop.py\", line 758, in _run_callback\n    ret = callback()\n  File \"/home/gazizullina149/anaconda3/lib/python3.6/site-packages/tornado/stack_context.py\", line 300, in null_wrapper\n    return fn(*args, **kwargs)\n  File \"/home/gazizullina149/anaconda3/lib/python3.6/site-packages/tornado/gen.py\", line 1233, in inner\n    self.run()\n  File \"/home/gazizullina149/anaconda3/lib/python3.6/site-packages/tornado/gen.py\", line 1147, in run\n    yielded = self.gen.send(value)\n  File \"/home/gazizullina149/anaconda3/lib/python3.6/site-packages/ipykernel/kernelbase.py\", line 357, in process_one\n    yield gen.maybe_future(dispatch(*args))\n  File \"/home/gazizullina149/anaconda3/lib/python3.6/site-packages/tornado/gen.py\", line 326, in wrapper\n    yielded = next(result)\n  File \"/home/gazizullina149/anaconda3/lib/python3.6/site-packages/ipykernel/kernelbase.py\", line 267, in dispatch_shell\n    yield gen.maybe_future(handler(stream, idents, msg))\n  File \"/home/gazizullina149/anaconda3/lib/python3.6/site-packages/tornado/gen.py\", line 326, in wrapper\n    yielded = next(result)\n  File \"/home/gazizullina149/anaconda3/lib/python3.6/site-packages/ipykernel/kernelbase.py\", line 534, in execute_request\n    user_expressions, allow_stdin,\n  File \"/home/gazizullina149/anaconda3/lib/python3.6/site-packages/tornado/gen.py\", line 326, in wrapper\n    yielded = next(result)\n  File \"/home/gazizullina149/anaconda3/lib/python3.6/site-packages/ipykernel/ipkernel.py\", line 294, in do_execute\n    res = shell.run_cell(code, store_history=store_history, silent=silent)\n  File \"/home/gazizullina149/anaconda3/lib/python3.6/site-packages/ipykernel/zmqshell.py\", line 536, in run_cell\n    return super(ZMQInteractiveShell, self).run_cell(*args, **kwargs)\n  File \"/home/gazizullina149/anaconda3/lib/python3.6/site-packages/IPython/core/interactiveshell.py\", line 2819, in run_cell\n    raw_cell, store_history, silent, shell_futures)\n  File \"/home/gazizullina149/anaconda3/lib/python3.6/site-packages/IPython/core/interactiveshell.py\", line 2845, in _run_cell\n    return runner(coro)\n  File \"/home/gazizullina149/anaconda3/lib/python3.6/site-packages/IPython/core/async_helpers.py\", line 67, in _pseudo_sync_runner\n    coro.send(None)\n  File \"/home/gazizullina149/anaconda3/lib/python3.6/site-packages/IPython/core/interactiveshell.py\", line 3020, in run_cell_async\n    interactivity=interactivity, compiler=compiler, result=result)\n  File \"/home/gazizullina149/anaconda3/lib/python3.6/site-packages/IPython/core/interactiveshell.py\", line 3191, in run_ast_nodes\n    if (yield from self.run_code(code, result)):\n  File \"/home/gazizullina149/anaconda3/lib/python3.6/site-packages/IPython/core/interactiveshell.py\", line 3267, in run_code\n    exec(code_obj, self.user_global_ns, self.user_ns)\n  File \"<ipython-input-63-c808d3833331>\", line 1, in <module>\n    tf.train.Saver().restore(sess, checkmate.get_best_checkpoint(checkpoint_dir, select_maximum_value=False))\n  File \"/home/gazizullina149/anaconda3/lib/python3.6/site-packages/tensorflow/python/training/saver.py\", line 1281, in __init__\n    self.build()\n  File \"/home/gazizullina149/anaconda3/lib/python3.6/site-packages/tensorflow/python/training/saver.py\", line 1293, in build\n    self._build(self._filename, build_save=True, build_restore=True)\n  File \"/home/gazizullina149/anaconda3/lib/python3.6/site-packages/tensorflow/python/training/saver.py\", line 1330, in _build\n    build_save=build_save, build_restore=build_restore)\n  File \"/home/gazizullina149/anaconda3/lib/python3.6/site-packages/tensorflow/python/training/saver.py\", line 778, in _build_internal\n    restore_sequentially, reshape)\n  File \"/home/gazizullina149/anaconda3/lib/python3.6/site-packages/tensorflow/python/training/saver.py\", line 419, in _AddRestoreOps\n    assign_ops.append(saveable.restore(saveable_tensors, shapes))\n  File \"/home/gazizullina149/anaconda3/lib/python3.6/site-packages/tensorflow/python/training/saver.py\", line 112, in restore\n    self.op.get_shape().is_fully_defined())\n  File \"/home/gazizullina149/anaconda3/lib/python3.6/site-packages/tensorflow/python/ops/state_ops.py\", line 216, in assign\n    validate_shape=validate_shape)\n  File \"/home/gazizullina149/anaconda3/lib/python3.6/site-packages/tensorflow/python/ops/gen_state_ops.py\", line 60, in assign\n    use_locking=use_locking, name=name)\n  File \"/home/gazizullina149/anaconda3/lib/python3.6/site-packages/tensorflow/python/framework/op_def_library.py\", line 787, in _apply_op_helper\n    op_def=op_def)\n  File \"/home/gazizullina149/anaconda3/lib/python3.6/site-packages/tensorflow/python/util/deprecation.py\", line 454, in new_func\n    return func(*args, **kwargs)\n  File \"/home/gazizullina149/anaconda3/lib/python3.6/site-packages/tensorflow/python/framework/ops.py\", line 3155, in create_op\n    op_def=op_def)\n  File \"/home/gazizullina149/anaconda3/lib/python3.6/site-packages/tensorflow/python/framework/ops.py\", line 1717, in __init__\n    self._traceback = tf_stack.extract_stack()\n\nInvalidArgumentError (see above for traceback): Restoring from checkpoint failed. This is most likely due to a mismatch between the current graph and the graph from the checkpoint. Please ensure that you have not altered the graph expected based on the checkpoint. Original error:\n\nAssign requires shapes of both tensors to match. lhs shape= [32,1] rhs shape= [64,1]\n\t [[Node: save_2/Assign_6 = Assign[T=DT_FLOAT, _class=[\"loc:@lstm-rnn/dense/kernel\"], use_locking=true, validate_shape=true, _device=\"/job:localhost/replica:0/task:0/device:CPU:0\"](lstm-rnn/dense/kernel, save_2/RestoreV2:6)]]\n"
     ]
    }
   ],
   "source": [
    "tf.train.Saver().restore(sess, checkmate.get_best_checkpoint(checkpoint_dir, select_maximum_value=False))"
   ]
  },
  {
   "cell_type": "code",
   "execution_count": 40,
   "metadata": {},
   "outputs": [
    {
     "ename": "NameError",
     "evalue": "name 'test_pad' is not defined",
     "output_type": "error",
     "traceback": [
      "\u001b[0;31m---------------------------------------------------------------------------\u001b[0m",
      "\u001b[0;31mNameError\u001b[0m                                 Traceback (most recent call last)",
      "\u001b[0;32m<ipython-input-40-799e312dcf04>\u001b[0m in \u001b[0;36m<module>\u001b[0;34m\u001b[0m\n\u001b[0;32m----> 1\u001b[0;31m \u001b[0mpred\u001b[0m \u001b[0;34m=\u001b[0m \u001b[0my_pred\u001b[0m\u001b[0;34m.\u001b[0m\u001b[0meval\u001b[0m\u001b[0;34m(\u001b[0m\u001b[0;34m{\u001b[0m\u001b[0mX\u001b[0m\u001b[0;34m:\u001b[0m \u001b[0mtest_pad\u001b[0m\u001b[0;34m,\u001b[0m \u001b[0mseq_length\u001b[0m\u001b[0;34m:\u001b[0m \u001b[0mtest_lens\u001b[0m\u001b[0;34m,\u001b[0m \u001b[0my\u001b[0m\u001b[0;34m:\u001b[0m \u001b[0my_test\u001b[0m\u001b[0;34m}\u001b[0m\u001b[0;34m)\u001b[0m\u001b[0;34m\u001b[0m\u001b[0m\n\u001b[0m\u001b[1;32m      2\u001b[0m \u001b[0mnp\u001b[0m\u001b[0;34m.\u001b[0m\u001b[0mabs\u001b[0m\u001b[0;34m(\u001b[0m\u001b[0;34m(\u001b[0m\u001b[0mpred\u001b[0m \u001b[0;34m-\u001b[0m \u001b[0my_test\u001b[0m\u001b[0;34m)\u001b[0m\u001b[0;34m)\u001b[0m\u001b[0;34m.\u001b[0m\u001b[0margmin\u001b[0m\u001b[0;34m(\u001b[0m\u001b[0;34m)\u001b[0m\u001b[0;34m\u001b[0m\u001b[0m\n",
      "\u001b[0;31mNameError\u001b[0m: name 'test_pad' is not defined"
     ]
    }
   ],
   "source": [
    "pred = y_pred.eval({X: test_pad, seq_length: test_lens, y: y_test})\n",
    "np.abs((pred - y_test)).argmin()"
   ]
  }
 ],
 "metadata": {
  "kernelspec": {
   "display_name": "Python 3",
   "language": "python",
   "name": "python3"
  },
  "language_info": {
   "codemirror_mode": {
    "name": "ipython",
    "version": 3
   },
   "file_extension": ".py",
   "mimetype": "text/x-python",
   "name": "python",
   "nbconvert_exporter": "python",
   "pygments_lexer": "ipython3",
   "version": "3.6.2"
  }
 },
 "nbformat": 4,
 "nbformat_minor": 2
}
